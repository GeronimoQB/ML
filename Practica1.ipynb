{
 "cells": [
  {
   "cell_type": "markdown",
   "id": "575ea36f-4763-44f6-99c0-98a669756b51",
   "metadata": {},
   "source": [
    "# Practica 2\n",
    "Texto <br>\n",
    "__Descripción__ <br>\n",
    "**Texto** <br>\n",
    "*Texto* <br>\n",
    "> cita <br>\n",
    "\n",
    "cita\n",
    "\n",
    "\n",
    "> **Texto** <br>\n",
    "\n",
    "### Viñetas\n",
    "-  Bullet item\n",
    " - Bullet item\n",
    " * Bullet item\n",
    " * Signo >\n",
    " * Signo -"
   ]
  },
  {
   "cell_type": "code",
   "execution_count": null,
   "id": "5970c5fa-8203-409f-96bf-9408e7253a1b",
   "metadata": {},
   "outputs": [],
   "source": []
  }
 ],
 "metadata": {
  "kernelspec": {
   "display_name": "R",
   "language": "R",
   "name": "ir"
  },
  "language_info": {
   "codemirror_mode": "r",
   "file_extension": ".r",
   "mimetype": "text/x-r-source",
   "name": "R",
   "pygments_lexer": "r",
   "version": "4.1.1"
  }
 },
 "nbformat": 4,
 "nbformat_minor": 5
}
