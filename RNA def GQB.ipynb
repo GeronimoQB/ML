{
 "cells": [
  {
   "cell_type": "markdown",
   "id": "b7bef3c3-abbc-47cd-870b-586349134d7c",
   "metadata": {},
   "source": [
    "# Perceptrón\n",
    "## Mi primer Red Neuronal"
   ]
  },
  {
   "cell_type": "code",
   "execution_count": 3,
   "id": "7187714d-c046-4f9d-9d5c-cddd2773fe15",
   "metadata": {},
   "outputs": [
    {
     "name": "stderr",
     "output_type": "stream",
     "text": [
      "Warning message:\n",
      "\"package 'tidyverse' was built under R version 4.1.3\"\n",
      "-- \u001b[1mAttaching packages\u001b[22m ------------------------------------------------------------------------------- tidyverse 1.3.1 --\n",
      "\n",
      "\u001b[32mv\u001b[39m \u001b[34mtibble \u001b[39m 3.1.5     \u001b[32mv\u001b[39m \u001b[34mdplyr  \u001b[39m 1.0.8\n",
      "\u001b[32mv\u001b[39m \u001b[34mtidyr  \u001b[39m 1.1.4     \u001b[32mv\u001b[39m \u001b[34mstringr\u001b[39m 1.4.0\n",
      "\u001b[32mv\u001b[39m \u001b[34mreadr  \u001b[39m 2.0.2     \u001b[32mv\u001b[39m \u001b[34mforcats\u001b[39m 0.5.1\n",
      "\u001b[32mv\u001b[39m \u001b[34mpurrr  \u001b[39m 0.3.4     \n",
      "\n",
      "Warning message:\n",
      "\"package 'dplyr' was built under R version 4.1.2\"\n",
      "-- \u001b[1mConflicts\u001b[22m ---------------------------------------------------------------------------------- tidyverse_conflicts() --\n",
      "\u001b[31mx\u001b[39m \u001b[34mdplyr\u001b[39m::\u001b[32mfilter()\u001b[39m masks \u001b[34mstats\u001b[39m::filter()\n",
      "\u001b[31mx\u001b[39m \u001b[34mdplyr\u001b[39m::\u001b[32mlag()\u001b[39m    masks \u001b[34mstats\u001b[39m::lag()\n",
      "\n"
     ]
    }
   ],
   "source": [
    "library(ggplot2)\n",
    "library(tidyverse)"
   ]
  },
  {
   "cell_type": "code",
   "execution_count": 83,
   "id": "891543e6-5686-4fda-8c52-e25c9e91c835",
   "metadata": {},
   "outputs": [],
   "source": [
    "hardlim <- function(x){\n",
    "y <- ifelse(x >= 0,1,0)\n",
    "    return(y) \n",
    "}\n",
    "\n",
    "\n",
    "neurona <- function(X,w,b){\n",
    "salidan <- hardlim(crossprod(X,w) + b)\n",
    "}\n",
    "\n",
    "\n",
    "\n",
    "test_perceptron <- function(X,w,b){\n",
    "yp <- numeric(dim(X)[1])\n",
    "for(i  in  1:(dim(X)[1]) )\n",
    "    yp[i] = neurona(X[i,],w,b) \n",
    "return(yp)  \n",
    "}\n",
    "\n",
    "\n",
    "\n",
    "train_perceptron <- function(X,y){\n",
    "\n",
    "w = c(1.0,-0.8)\n",
    "b = 0\n",
    "    \n",
    "  yp <-  test_perceptron(X,w,b)\n",
    "    \n",
    "    while(!identical(yp,y)){\n",
    "      \n",
    "        yp <-  test_perceptron(X,w,b)\n",
    "        #\n",
    "        if(!identical(yp,y)){\n",
    "        yp_s <- yp[((y-yp) != 0)]\n",
    "        y_s <- y[((y-yp) != 0)]\n",
    "        X_s <- X[((y-yp) != 0),]\n",
    "        \n",
    "        w <- w + (y_s[1] - yp_s[1]) * X_s[1]\n",
    "        b <- b + (y_s[1] - yp_s[1])\n",
    "        }\n",
    "    }\n",
    "    \n",
    "    return(c(w,b,yp))\n",
    "    \n",
    "\n",
    "}"
   ]
  },
  {
   "cell_type": "code",
   "execution_count": 22,
   "id": "5e22987b-9070-4c06-8986-cc9dc36306fc",
   "metadata": {},
   "outputs": [
    {
     "data": {
      "image/png": "[encoded data removed]",
      "text/plain": [
       "plot without title"
      ]
     },
     "metadata": {
      "image/png": {
       "height": 420,
       "width": 420
      }
     },
     "output_type": "display_data"
    }
   ],
   "source": [
    "#definición del or\n",
    "X <- cbind(c(0,0,1,1), c(0,1,0,1))\n",
    "Y <- c(0,1,1,1)\n",
    "\n",
    "datos <- data.frame(X, Y)\n",
    "\n",
    "ggplot(data = datos, aes(x = X1, y = X2, color = as.factor(Y))) +\n",
    "        theme_grey() +\n",
    "        geom_point() +\n",
    "        geom_abline(intercept = -(-0.25/0.5), slope = -(0.5/0.5), color =\"red\", size = 3)"
   ]
  },
  {
   "cell_type": "code",
   "execution_count": 87,
   "id": "13c4d9bf-7a34-4df4-ba84-7c9baa1d7af6",
   "metadata": {},
   "outputs": [
    {
     "data": {
      "text/html": [
       "2"
      ],
      "text/latex": [
       "2"
      ],
      "text/markdown": [
       "2"
      ],
      "text/plain": [
       "[1] 2"
      ]
     },
     "metadata": {},
     "output_type": "display_data"
    },
    {
     "data": {
      "text/html": [
       "0.2"
      ],
      "text/latex": [
       "0.2"
      ],
      "text/markdown": [
       "0.2"
      ],
      "text/plain": [
       "[1] 0.2"
      ]
     },
     "metadata": {},
     "output_type": "display_data"
    },
    {
     "data": {
      "image/png": "[encoded data removed]",
      "text/plain": [
       "plot without title"
      ]
     },
     "metadata": {
      "image/png": {
       "height": 420,
       "width": 420
      }
     },
     "output_type": "display_data"
    }
   ],
   "source": [
    "#definción del or \n",
    "#X <- cbind(c(0,0,1,1),c(0,1,0,1))\n",
    "#Y <- c(0,1,1,1)\n",
    "\n",
    "X <- cbind(c(1,-1,0),c(2,2,-1))\n",
    "Y <- c(1,0,0)\n",
    "\n",
    "\n",
    "w = c(1.0,-0.8)\n",
    "\n",
    "#for(i  in  1:(dim(X)[1]) )\n",
    " #   yp = neurona(X[i,],w,0) \n",
    "\n",
    "#yp = neurona(X[1,],w,0) \n",
    "\n",
    "#aplicar la regla de aprendizaje\n",
    "#w <- w + (Y[1] - yp) * X[1,]\n",
    "\n",
    "#w\n",
    "#volver a preguntar a la neurona si ya funciona\n",
    "#yp = neurona(X[1,],w,0) \n",
    "\n",
    "\n",
    "#preguntar por el segund valor\n",
    "#yp = neurona(X[2,],w,0) \n",
    "#yp\n",
    "#aplicar la regla de aprendizaje\n",
    "#w <- w + (Y[2] - yp) * X[2,]\n",
    "#w\n",
    "#comprobar si cumple\n",
    "#yp = neurona(X[1,],w,0)#si cumpli \n",
    "#yp = neurona(X[2,],w,0) #si\n",
    "#yp = neurona(X[3,],w,0) #no\n",
    "#w <- w + (Y[3] - yp) * X[3,]\n",
    "\n",
    "\n",
    "#yp = neurona(X[1,],w,0)#si cumpli \n",
    "#yp = neurona(X[2,],w,0) #si\n",
    "#yp = neurona(X[3,],w,0) #no\n",
    "\n",
    "#yp <- test_perceptron(X,w,0)\n",
    "#yp\n",
    "#datos <- data.frame(X,Y)\n",
    "res <- train_perceptron(X,Y)\n",
    "w <- res[1:2]\n",
    "w[1]\n",
    "w[2]\n",
    "#datos\n",
    "ggplot(data = datos,aes(x = X1, y = X2,color =  as.factor(Y))) +\n",
    "        geom_point() +\n",
    "        geom_abline( intercept = -(-0.25/w[2]), slope = -(w[1]/w[2]), color =\"red\", size = 2)"
   ]
  },
  {
   "cell_type": "code",
   "execution_count": null,
   "id": "8b9b6b47-8627-464d-9531-6a94404920ff",
   "metadata": {},
   "outputs": [],
   "source": []
  }
 ],
 "metadata": {
  "kernelspec": {
   "display_name": "R",
   "language": "R",
   "name": "ir"
  },
  "language_info": {
   "codemirror_mode": "r",
   "file_extension": ".r",
   "mimetype": "text/x-r-source",
   "name": "R",
   "pygments_lexer": "r",
   "version": "4.1.1"
  }
 },
 "nbformat": 4,
 "nbformat_minor": 5
}
