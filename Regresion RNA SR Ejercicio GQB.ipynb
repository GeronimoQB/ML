{
 "cells": [
  {
   "cell_type": "markdown",
   "id": "462b9575-2c5c-4c7b-b215-3d80d1fe6218",
   "metadata": {},
   "source": [
    "# Regresión con RNAs Multicapa"
   ]
  },
  {
   "cell_type": "code",
   "execution_count": 109,
   "id": "397c9b22-2550-4670-8505-0f98379fc484",
   "metadata": {},
   "outputs": [],
   "source": [
    "#install.packages(\"tidyverse\")\n",
    "#install.packages(\"gganimate\")\n",
    "#install.packages(\"plotly\")\n",
    "#install.packages(\"gifski\")\n",
    "#install.packages(\"RColorBrewer\")\n",
    "#install.packages(\"wesanderson\")\n",
    "#install.packages(\"neuralnet\")\n",
    "#install.packages(\"NeuralNetTools\")\n",
    "\n",
    "library(gifski)\n",
    "library(tidyverse)\n",
    "library(gganimate)\n",
    "library(plotly)\n",
    "library(RColorBrewer)\n",
    "library(wesanderson)\n",
    "\n",
    "\n",
    "library(neuralnet)\n",
    "library(NeuralNetTools)\n",
    "library(ggplot2)\n",
    "\n",
    "library(gifski)\n",
    "library(tidyverse)\n",
    "library(gganimate)\n",
    "library(plotly)\n",
    "library(RColorBrewer)\n",
    "library(wesanderson)"
   ]
  },
  {
   "cell_type": "code",
   "execution_count": 2,
   "id": "490742b2-c838-43fc-a792-bbe4229545af",
   "metadata": {},
   "outputs": [
    {
     "name": "stdout",
     "output_type": "stream",
     "text": [
      "'data.frame':\t28149 obs. of  10 variables:\n",
      " $ cve_ent    : int  1 2 3 4 7 8 9 5 6 10 ...\n",
      " $ poblacion  : int  1434635 3634868 804708 1000617 5730367 3801487 9018645 3218720 785153 1868996 ...\n",
      " $ nombre     : chr  \"AGUASCALIENTES\" \"BAJA CALIFORNIA\" \"BAJA CALIFORNIA SUR\" \"CAMPECHE\" ...\n",
      " $ dias       : chr  \"26/02/2020\" \"26/02/2020\" \"26/02/2020\" \"26/02/2020\" ...\n",
      " $ dia        : chr  \"26\" \"26\" \"26\" \"26\" ...\n",
      " $ mes        : chr  \"02\" \"02\" \"02\" \"02\" ...\n",
      " $ año        : chr  \"2020\" \"2020\" \"2020\" \"2020\" ...\n",
      " $ infectados : int  0 0 0 0 0 0 0 0 0 0 ...\n",
      " $ mest_txt   : Factor w/ 12 levels \"Ene\",\"Feb\",\"Mar\",..: 2 2 2 2 2 2 2 2 2 2 ...\n",
      " $ consecutivo: int  1 2 3 4 5 6 7 8 9 10 ...\n"
     ]
    },
    {
     "data": {
      "text/html": [
       "<table class=\"dataframe\">\n",
       "<caption>A data.frame: 6 × 10</caption>\n",
       "<thead>\n",
       "\t<tr><th></th><th scope=col>cve_ent</th><th scope=col>poblacion</th><th scope=col>nombre</th><th scope=col>dias</th><th scope=col>dia</th><th scope=col>mes</th><th scope=col>año</th><th scope=col>infectados</th><th scope=col>mest_txt</th><th scope=col>consecutivo</th></tr>\n",
       "\t<tr><th></th><th scope=col>&lt;int&gt;</th><th scope=col>&lt;int&gt;</th><th scope=col>&lt;chr&gt;</th><th scope=col>&lt;chr&gt;</th><th scope=col>&lt;chr&gt;</th><th scope=col>&lt;chr&gt;</th><th scope=col>&lt;chr&gt;</th><th scope=col>&lt;int&gt;</th><th scope=col>&lt;fct&gt;</th><th scope=col>&lt;int&gt;</th></tr>\n",
       "</thead>\n",
       "<tbody>\n",
       "\t<tr><th scope=row>1</th><td>1</td><td>1434635</td><td>AGUASCALIENTES     </td><td>26/02/2020</td><td>26</td><td>02</td><td>2020</td><td>0</td><td>Feb</td><td>1</td></tr>\n",
       "\t<tr><th scope=row>2</th><td>2</td><td>3634868</td><td>BAJA CALIFORNIA    </td><td>26/02/2020</td><td>26</td><td>02</td><td>2020</td><td>0</td><td>Feb</td><td>2</td></tr>\n",
       "\t<tr><th scope=row>3</th><td>3</td><td> 804708</td><td>BAJA CALIFORNIA SUR</td><td>26/02/2020</td><td>26</td><td>02</td><td>2020</td><td>0</td><td>Feb</td><td>3</td></tr>\n",
       "\t<tr><th scope=row>4</th><td>4</td><td>1000617</td><td>CAMPECHE           </td><td>26/02/2020</td><td>26</td><td>02</td><td>2020</td><td>0</td><td>Feb</td><td>4</td></tr>\n",
       "\t<tr><th scope=row>5</th><td>7</td><td>5730367</td><td>CHIAPAS            </td><td>26/02/2020</td><td>26</td><td>02</td><td>2020</td><td>0</td><td>Feb</td><td>5</td></tr>\n",
       "\t<tr><th scope=row>6</th><td>8</td><td>3801487</td><td>CHIHUAHUA          </td><td>26/02/2020</td><td>26</td><td>02</td><td>2020</td><td>0</td><td>Feb</td><td>6</td></tr>\n",
       "</tbody>\n",
       "</table>\n"
      ],
      "text/latex": [
       "A data.frame: 6 × 10\n",
       "\\begin{tabular}{r|llllllllll}\n",
       "  & cve\\_ent & poblacion & nombre & dias & dia & mes & año & infectados & mest\\_txt & consecutivo\\\\\n",
       "  & <int> & <int> & <chr> & <chr> & <chr> & <chr> & <chr> & <int> & <fct> & <int>\\\\\n",
       "\\hline\n",
       "\t1 & 1 & 1434635 & AGUASCALIENTES      & 26/02/2020 & 26 & 02 & 2020 & 0 & Feb & 1\\\\\n",
       "\t2 & 2 & 3634868 & BAJA CALIFORNIA     & 26/02/2020 & 26 & 02 & 2020 & 0 & Feb & 2\\\\\n",
       "\t3 & 3 &  804708 & BAJA CALIFORNIA SUR & 26/02/2020 & 26 & 02 & 2020 & 0 & Feb & 3\\\\\n",
       "\t4 & 4 & 1000617 & CAMPECHE            & 26/02/2020 & 26 & 02 & 2020 & 0 & Feb & 4\\\\\n",
       "\t5 & 7 & 5730367 & CHIAPAS             & 26/02/2020 & 26 & 02 & 2020 & 0 & Feb & 5\\\\\n",
       "\t6 & 8 & 3801487 & CHIHUAHUA           & 26/02/2020 & 26 & 02 & 2020 & 0 & Feb & 6\\\\\n",
       "\\end{tabular}\n"
      ],
      "text/markdown": [
       "\n",
       "A data.frame: 6 × 10\n",
       "\n",
       "| <!--/--> | cve_ent &lt;int&gt; | poblacion &lt;int&gt; | nombre &lt;chr&gt; | dias &lt;chr&gt; | dia &lt;chr&gt; | mes &lt;chr&gt; | año &lt;chr&gt; | infectados &lt;int&gt; | mest_txt &lt;fct&gt; | consecutivo &lt;int&gt; |\n",
       "|---|---|---|---|---|---|---|---|---|---|---|\n",
       "| 1 | 1 | 1434635 | AGUASCALIENTES      | 26/02/2020 | 26 | 02 | 2020 | 0 | Feb | 1 |\n",
       "| 2 | 2 | 3634868 | BAJA CALIFORNIA     | 26/02/2020 | 26 | 02 | 2020 | 0 | Feb | 2 |\n",
       "| 3 | 3 |  804708 | BAJA CALIFORNIA SUR | 26/02/2020 | 26 | 02 | 2020 | 0 | Feb | 3 |\n",
       "| 4 | 4 | 1000617 | CAMPECHE            | 26/02/2020 | 26 | 02 | 2020 | 0 | Feb | 4 |\n",
       "| 5 | 7 | 5730367 | CHIAPAS             | 26/02/2020 | 26 | 02 | 2020 | 0 | Feb | 5 |\n",
       "| 6 | 8 | 3801487 | CHIHUAHUA           | 26/02/2020 | 26 | 02 | 2020 | 0 | Feb | 6 |\n",
       "\n"
      ],
      "text/plain": [
       "  cve_ent poblacion nombre              dias       dia mes año  infectados\n",
       "1 1       1434635   AGUASCALIENTES      26/02/2020 26  02  2020 0         \n",
       "2 2       3634868   BAJA CALIFORNIA     26/02/2020 26  02  2020 0         \n",
       "3 3        804708   BAJA CALIFORNIA SUR 26/02/2020 26  02  2020 0         \n",
       "4 4       1000617   CAMPECHE            26/02/2020 26  02  2020 0         \n",
       "5 7       5730367   CHIAPAS             26/02/2020 26  02  2020 0         \n",
       "6 8       3801487   CHIHUAHUA           26/02/2020 26  02  2020 0         \n",
       "  mest_txt consecutivo\n",
       "1 Feb      1          \n",
       "2 Feb      2          \n",
       "3 Feb      3          \n",
       "4 Feb      4          \n",
       "5 Feb      5          \n",
       "6 Feb      6          "
      ]
     },
     "metadata": {},
     "output_type": "display_data"
    }
   ],
   "source": [
    "# código limpieza y manipulación \n",
    "casos_diarios <-  read.csv(file = \"Casos_Diarios_Estado_Nacional.csv\")\n",
    "casos_diario_list <- gather(casos_diarios,key =\"dias\",value=\"infectados\",4:856)\n",
    "\n",
    "normalizarfecha <- function(fecha){\n",
    "return(str_replace_all(fecha,\"X\",\"\")  %>% str_replace_all(\"\\\\.\",\"/\"))\n",
    "}\n",
    "\n",
    "cod_Meses <- function(x) {\n",
    "\n",
    "labels_meses <- c(\n",
    "    \"Ene\",\"Feb\",\"Mar\",\"Abr\",\"May\",\"Jun\",\n",
    "    \"Jul\",\"Ago\",\"Sep\",\"Oct\",\"Nov\",\"Dic\")\n",
    "\n",
    "    return(factor(x,levels = (1:12),labels = labels_meses))\n",
    "    \n",
    "    }\n",
    "\n",
    "fecha = map(casos_diario_list[4],normalizarfecha)\n",
    "casos_diarios_fecha <- cbind(casos_diario_list[c(TRUE,TRUE,TRUE,FALSE,TRUE)],fecha)\n",
    "casos_diarios_fecha <- casos_diarios_fecha[c(1,2,3,5,4)]\n",
    "\n",
    "datos <- separate( data = casos_diarios_fecha,\n",
    "                   col =dias,\n",
    "                   into = c(\"dia\",\"mes\",\"año\"),\n",
    "                   sep = '/',\n",
    "                   remove = FALSE)\n",
    "#recordatorio\n",
    "datos <- datos %>% mutate(mest_txt = cod_Meses(as.integer(mes))) %>% mutate(consecutivo = 1:28149)\n",
    "str(datos)\n",
    "\n",
    "head(datos)\n",
    "\n"
   ]
  },
  {
   "cell_type": "markdown",
   "id": "9ab247e4-22a1-40aa-9906-5524fe015f3c",
   "metadata": {},
   "source": [
    "## Tratamiento adicional de los datos"
   ]
  },
  {
   "cell_type": "code",
   "execution_count": 3,
   "id": "16eca12b-a2a6-4122-a4ca-5c359db706ca",
   "metadata": {},
   "outputs": [
    {
     "data": {
      "text/html": [
       "<table class=\"dataframe\">\n",
       "<caption>A matrix: 6 × 3 of type dbl</caption>\n",
       "<thead>\n",
       "\t<tr><th scope=col>consecutivo</th><th scope=col>poblacion</th><th scope=col>infectadosnew</th></tr>\n",
       "</thead>\n",
       "<tbody>\n",
       "\t<tr><td>0.000000000</td><td>1</td><td>0.0000000000</td></tr>\n",
       "\t<tr><td>0.003236246</td><td>1</td><td>0.0002465483</td></tr>\n",
       "\t<tr><td>0.006472492</td><td>1</td><td>0.0001232742</td></tr>\n",
       "\t<tr><td>0.009708738</td><td>1</td><td>0.0001232742</td></tr>\n",
       "\t<tr><td>0.012944984</td><td>1</td><td>0.0001232742</td></tr>\n",
       "\t<tr><td>0.016181230</td><td>1</td><td>0.0003081854</td></tr>\n",
       "</tbody>\n",
       "</table>\n"
      ],
      "text/latex": [
       "A matrix: 6 × 3 of type dbl\n",
       "\\begin{tabular}{lll}\n",
       " consecutivo & poblacion & infectadosnew\\\\\n",
       "\\hline\n",
       "\t 0.000000000 & 1 & 0.0000000000\\\\\n",
       "\t 0.003236246 & 1 & 0.0002465483\\\\\n",
       "\t 0.006472492 & 1 & 0.0001232742\\\\\n",
       "\t 0.009708738 & 1 & 0.0001232742\\\\\n",
       "\t 0.012944984 & 1 & 0.0001232742\\\\\n",
       "\t 0.016181230 & 1 & 0.0003081854\\\\\n",
       "\\end{tabular}\n"
      ],
      "text/markdown": [
       "\n",
       "A matrix: 6 × 3 of type dbl\n",
       "\n",
       "| consecutivo | poblacion | infectadosnew |\n",
       "|---|---|---|\n",
       "| 0.000000000 | 1 | 0.0000000000 |\n",
       "| 0.003236246 | 1 | 0.0002465483 |\n",
       "| 0.006472492 | 1 | 0.0001232742 |\n",
       "| 0.009708738 | 1 | 0.0001232742 |\n",
       "| 0.012944984 | 1 | 0.0001232742 |\n",
       "| 0.016181230 | 1 | 0.0003081854 |\n",
       "\n"
      ],
      "text/plain": [
       "     consecutivo poblacion infectadosnew\n",
       "[1,] 0.000000000 1         0.0000000000 \n",
       "[2,] 0.003236246 1         0.0002465483 \n",
       "[3,] 0.006472492 1         0.0001232742 \n",
       "[4,] 0.009708738 1         0.0001232742 \n",
       "[5,] 0.012944984 1         0.0001232742 \n",
       "[6,] 0.016181230 1         0.0003081854 "
      ]
     },
     "metadata": {},
     "output_type": "display_data"
    }
   ],
   "source": [
    "# Tratamiento de datos\n",
    "##\n",
    "datosf <- datos %>% filter(año == \"2020\") %>% filter(nombre == \"Nacional\")  %>% mutate(consecutivo = 1:310)  %>%\n",
    "        mutate(infectadosnew = ((infectados/poblacion)*100000))\n",
    "\n",
    "#head(datosf)\n",
    "#str(datosf)\n",
    "\n",
    "#obtener variables parta normalizar datos\n",
    "min_d <- datosf  %>% select(consecutivo, poblacion, infectadosnew) %>% apply(2, min)\n",
    "max_d <- datosf  %>% select(consecutivo, poblacion, infectadosnew) %>% apply(2, max)\n",
    "min_d[2] <- 0\n",
    "#min_d\n",
    "#max_d\n",
    "\n",
    "min_inf <- min(datosf$infectadosnew)\n",
    "max_inf <- max(datosf$infectadosnew)\n",
    "\n",
    "#normalizacion de datos\n",
    "dnacionalnorm <- scale(select(datosf, consecutivo, poblacion, infectadosnew), center = min_d, scale = max_d - min_d)\n",
    "head(dnacionalnorm)"
   ]
  },
  {
   "cell_type": "markdown",
   "id": "6ea92ba2-2aa3-4d21-9e67-c61ce820b6b6",
   "metadata": {},
   "source": [
    "## Modelo Machine Learning"
   ]
  },
  {
   "cell_type": "code",
   "execution_count": 4,
   "id": "9315c9ec-eb3e-4a14-a468-19f5bd085050",
   "metadata": {},
   "outputs": [
    {
     "data": {
      "text/plain": [
       "infectadosnew ~ consecutivo"
      ]
     },
     "metadata": {},
     "output_type": "display_data"
    }
   ],
   "source": [
    "f <- as.formula(infectadosnew ~ consecutivo)\n",
    "f"
   ]
  },
  {
   "cell_type": "code",
   "execution_count": 37,
   "id": "1b9a5115-1a5f-4564-bcc1-ecc2b1a04385",
   "metadata": {},
   "outputs": [
    {
     "data": {
      "image/png": "[encoded data removed]",
      "text/plain": [
       "plot without title"
      ]
     },
     "metadata": {
      "image/png": {
       "height": 420,
       "width": 420
      }
     },
     "output_type": "display_data"
    }
   ],
   "source": [
    "nnet <- neuralnet(f, data = dnacionalnorm,\n",
    "                  hidden = c(5,5),\n",
    "                  threshold = 0.05,\n",
    "                  algorithm = \"rprop+\",\n",
    "                  stepmax = 10000,\n",
    "                  #rep = 5,\n",
    "                  act.fct = \"tanh\") \n",
    "##\n",
    "plotnet(nnet, \n",
    "        circle_col = \"lightblue\",\n",
    "        pos_col = \"blue\",\n",
    "        neg_col = \"grey\",\n",
    "        bord_col = \"lightblue\",)"
   ]
  },
  {
   "cell_type": "markdown",
   "id": "5772292c-fdee-4c1b-b4c8-fca8540585fc",
   "metadata": {},
   "source": [
    "# Visualización de datos"
   ]
  },
  {
   "cell_type": "code",
   "execution_count": 7,
   "id": "22d3ea0a-3769-4505-a27d-d2f4b16b0089",
   "metadata": {},
   "outputs": [
    {
     "data": {
      "text/html": [
       "<table class=\"dataframe\">\n",
       "<caption>A matrix: 310 × 1 of type dbl</caption>\n",
       "<tbody>\n",
       "\t<tr><td>-0.0154157194</td></tr>\n",
       "\t<tr><td>-0.0144311607</td></tr>\n",
       "\t<tr><td>-0.0134348087</td></tr>\n",
       "\t<tr><td>-0.0124258482</td></tr>\n",
       "\t<tr><td>-0.0114035074</td></tr>\n",
       "\t<tr><td>-0.0103670531</td></tr>\n",
       "\t<tr><td>-0.0093157865</td></tr>\n",
       "\t<tr><td>-0.0082490383</td></tr>\n",
       "\t<tr><td>-0.0071661642</td></tr>\n",
       "\t<tr><td>-0.0060665397</td></tr>\n",
       "\t<tr><td>-0.0049495557</td></tr>\n",
       "\t<tr><td>-0.0038146136</td></tr>\n",
       "\t<tr><td>-0.0026611203</td></tr>\n",
       "\t<tr><td>-0.0014884835</td></tr>\n",
       "\t<tr><td>-0.0002961072</td></tr>\n",
       "\t<tr><td> 0.0009166132</td></tr>\n",
       "\t<tr><td> 0.0021502952</td></tr>\n",
       "\t<tr><td> 0.0034055738</td></tr>\n",
       "\t<tr><td> 0.0046831052</td></tr>\n",
       "\t<tr><td> 0.0059835714</td></tr>\n",
       "\t<tr><td> 0.0073076835</td></tr>\n",
       "\t<tr><td> 0.0086561855</td></tr>\n",
       "\t<tr><td> 0.0100298575</td></tr>\n",
       "\t<tr><td> 0.0114295188</td></tr>\n",
       "\t<tr><td> 0.0128560306</td></tr>\n",
       "\t<tr><td> 0.0143102982</td></tr>\n",
       "\t<tr><td> 0.0157932733</td></tr>\n",
       "\t<tr><td> 0.0173059557</td></tr>\n",
       "\t<tr><td> 0.0188493944</td></tr>\n",
       "\t<tr><td> 0.0204246890</td></tr>\n",
       "\t<tr><td>...</td></tr>\n",
       "\t<tr><td>0.5463488</td></tr>\n",
       "\t<tr><td>0.5526843</td></tr>\n",
       "\t<tr><td>0.5590536</td></tr>\n",
       "\t<tr><td>0.5654539</td></tr>\n",
       "\t<tr><td>0.5718820</td></tr>\n",
       "\t<tr><td>0.5783353</td></tr>\n",
       "\t<tr><td>0.5848108</td></tr>\n",
       "\t<tr><td>0.5913057</td></tr>\n",
       "\t<tr><td>0.5978175</td></tr>\n",
       "\t<tr><td>0.6043434</td></tr>\n",
       "\t<tr><td>0.6108809</td></tr>\n",
       "\t<tr><td>0.6174278</td></tr>\n",
       "\t<tr><td>0.6239816</td></tr>\n",
       "\t<tr><td>0.6305401</td></tr>\n",
       "\t<tr><td>0.6371014</td></tr>\n",
       "\t<tr><td>0.6436634</td></tr>\n",
       "\t<tr><td>0.6502245</td></tr>\n",
       "\t<tr><td>0.6567828</td></tr>\n",
       "\t<tr><td>0.6633369</td></tr>\n",
       "\t<tr><td>0.6698854</td></tr>\n",
       "\t<tr><td>0.6764271</td></tr>\n",
       "\t<tr><td>0.6829608</td></tr>\n",
       "\t<tr><td>0.6894856</td></tr>\n",
       "\t<tr><td>0.6960007</td></tr>\n",
       "\t<tr><td>0.7025053</td></tr>\n",
       "\t<tr><td>0.7089991</td></tr>\n",
       "\t<tr><td>0.7154814</td></tr>\n",
       "\t<tr><td>0.7219522</td></tr>\n",
       "\t<tr><td>0.7284111</td></tr>\n",
       "\t<tr><td>0.7348583</td></tr>\n",
       "</tbody>\n",
       "</table>\n"
      ],
      "text/latex": [
       "A matrix: 310 × 1 of type dbl\n",
       "\\begin{tabular}{l}\n",
       "\t -0.0154157194\\\\\n",
       "\t -0.0144311607\\\\\n",
       "\t -0.0134348087\\\\\n",
       "\t -0.0124258482\\\\\n",
       "\t -0.0114035074\\\\\n",
       "\t -0.0103670531\\\\\n",
       "\t -0.0093157865\\\\\n",
       "\t -0.0082490383\\\\\n",
       "\t -0.0071661642\\\\\n",
       "\t -0.0060665397\\\\\n",
       "\t -0.0049495557\\\\\n",
       "\t -0.0038146136\\\\\n",
       "\t -0.0026611203\\\\\n",
       "\t -0.0014884835\\\\\n",
       "\t -0.0002961072\\\\\n",
       "\t  0.0009166132\\\\\n",
       "\t  0.0021502952\\\\\n",
       "\t  0.0034055738\\\\\n",
       "\t  0.0046831052\\\\\n",
       "\t  0.0059835714\\\\\n",
       "\t  0.0073076835\\\\\n",
       "\t  0.0086561855\\\\\n",
       "\t  0.0100298575\\\\\n",
       "\t  0.0114295188\\\\\n",
       "\t  0.0128560306\\\\\n",
       "\t  0.0143102982\\\\\n",
       "\t  0.0157932733\\\\\n",
       "\t  0.0173059557\\\\\n",
       "\t  0.0188493944\\\\\n",
       "\t  0.0204246890\\\\\n",
       "\t ...\\\\\n",
       "\t 0.5463488\\\\\n",
       "\t 0.5526843\\\\\n",
       "\t 0.5590536\\\\\n",
       "\t 0.5654539\\\\\n",
       "\t 0.5718820\\\\\n",
       "\t 0.5783353\\\\\n",
       "\t 0.5848108\\\\\n",
       "\t 0.5913057\\\\\n",
       "\t 0.5978175\\\\\n",
       "\t 0.6043434\\\\\n",
       "\t 0.6108809\\\\\n",
       "\t 0.6174278\\\\\n",
       "\t 0.6239816\\\\\n",
       "\t 0.6305401\\\\\n",
       "\t 0.6371014\\\\\n",
       "\t 0.6436634\\\\\n",
       "\t 0.6502245\\\\\n",
       "\t 0.6567828\\\\\n",
       "\t 0.6633369\\\\\n",
       "\t 0.6698854\\\\\n",
       "\t 0.6764271\\\\\n",
       "\t 0.6829608\\\\\n",
       "\t 0.6894856\\\\\n",
       "\t 0.6960007\\\\\n",
       "\t 0.7025053\\\\\n",
       "\t 0.7089991\\\\\n",
       "\t 0.7154814\\\\\n",
       "\t 0.7219522\\\\\n",
       "\t 0.7284111\\\\\n",
       "\t 0.7348583\\\\\n",
       "\\end{tabular}\n"
      ],
      "text/markdown": [
       "\n",
       "A matrix: 310 × 1 of type dbl\n",
       "\n",
       "| -0.0154157194 |\n",
       "| -0.0144311607 |\n",
       "| -0.0134348087 |\n",
       "| -0.0124258482 |\n",
       "| -0.0114035074 |\n",
       "| -0.0103670531 |\n",
       "| -0.0093157865 |\n",
       "| -0.0082490383 |\n",
       "| -0.0071661642 |\n",
       "| -0.0060665397 |\n",
       "| -0.0049495557 |\n",
       "| -0.0038146136 |\n",
       "| -0.0026611203 |\n",
       "| -0.0014884835 |\n",
       "| -0.0002961072 |\n",
       "|  0.0009166132 |\n",
       "|  0.0021502952 |\n",
       "|  0.0034055738 |\n",
       "|  0.0046831052 |\n",
       "|  0.0059835714 |\n",
       "|  0.0073076835 |\n",
       "|  0.0086561855 |\n",
       "|  0.0100298575 |\n",
       "|  0.0114295188 |\n",
       "|  0.0128560306 |\n",
       "|  0.0143102982 |\n",
       "|  0.0157932733 |\n",
       "|  0.0173059557 |\n",
       "|  0.0188493944 |\n",
       "|  0.0204246890 |\n",
       "| ... |\n",
       "| 0.5463488 |\n",
       "| 0.5526843 |\n",
       "| 0.5590536 |\n",
       "| 0.5654539 |\n",
       "| 0.5718820 |\n",
       "| 0.5783353 |\n",
       "| 0.5848108 |\n",
       "| 0.5913057 |\n",
       "| 0.5978175 |\n",
       "| 0.6043434 |\n",
       "| 0.6108809 |\n",
       "| 0.6174278 |\n",
       "| 0.6239816 |\n",
       "| 0.6305401 |\n",
       "| 0.6371014 |\n",
       "| 0.6436634 |\n",
       "| 0.6502245 |\n",
       "| 0.6567828 |\n",
       "| 0.6633369 |\n",
       "| 0.6698854 |\n",
       "| 0.6764271 |\n",
       "| 0.6829608 |\n",
       "| 0.6894856 |\n",
       "| 0.6960007 |\n",
       "| 0.7025053 |\n",
       "| 0.7089991 |\n",
       "| 0.7154814 |\n",
       "| 0.7219522 |\n",
       "| 0.7284111 |\n",
       "| 0.7348583 |\n",
       "\n"
      ],
      "text/plain": [
       "      [,1]         \n",
       " [1,] -0.0154157194\n",
       " [2,] -0.0144311607\n",
       " [3,] -0.0134348087\n",
       " [4,] -0.0124258482\n",
       " [5,] -0.0114035074\n",
       " [6,] -0.0103670531\n",
       " [7,] -0.0093157865\n",
       " [8,] -0.0082490383\n",
       " [9,] -0.0071661642\n",
       "[10,] -0.0060665397\n",
       "[11,] -0.0049495557\n",
       "[12,] -0.0038146136\n",
       "[13,] -0.0026611203\n",
       "[14,] -0.0014884835\n",
       "[15,] -0.0002961072\n",
       "[16,]  0.0009166132\n",
       "[17,]  0.0021502952\n",
       "[18,]  0.0034055738\n",
       "[19,]  0.0046831052\n",
       "[20,]  0.0059835714\n",
       "[21,]  0.0073076835\n",
       "[22,]  0.0086561855\n",
       "[23,]  0.0100298575\n",
       "[24,]  0.0114295188\n",
       "[25,]  0.0128560306\n",
       "[26,]  0.0143102982\n",
       "[27,]  0.0157932733\n",
       "[28,]  0.0173059557\n",
       "[29,]  0.0188493944\n",
       "[30,]  0.0204246890\n",
       "[31,] ...          \n",
       "[32,] 0.5463488    \n",
       "[33,] 0.5526843    \n",
       "[34,] 0.5590536    \n",
       "[35,] 0.5654539    \n",
       "[36,] 0.5718820    \n",
       "[37,] 0.5783353    \n",
       "[38,] 0.5848108    \n",
       "[39,] 0.5913057    \n",
       "[40,] 0.5978175    \n",
       "[41,] 0.6043434    \n",
       "[42,] 0.6108809    \n",
       "[43,] 0.6174278    \n",
       "[44,] 0.6239816    \n",
       "[45,] 0.6305401    \n",
       "[46,] 0.6371014    \n",
       "[47,] 0.6436634    \n",
       "[48,] 0.6502245    \n",
       "[49,] 0.6567828    \n",
       "[50,] 0.6633369    \n",
       "[51,] 0.6698854    \n",
       "[52,] 0.6764271    \n",
       "[53,] 0.6829608    \n",
       "[54,] 0.6894856    \n",
       "[55,] 0.6960007    \n",
       "[56,] 0.7025053    \n",
       "[57,] 0.7089991    \n",
       "[58,] 0.7154814    \n",
       "[59,] 0.7219522    \n",
       "[60,] 0.7284111    \n",
       "[61,] 0.7348583    "
      ]
     },
     "metadata": {},
     "output_type": "display_data"
    },
    {
     "name": "stdout",
     "output_type": "stream",
     "text": [
      " num [1:310, 1] -0.0154 -0.0144 -0.0134 -0.0124 -0.0114 ...\n"
     ]
    }
   ],
   "source": [
    "eval_nn <- predict(nnet, dnacionalnorm[, 1:2])\n",
    "eval_nn\n",
    "str(eval_nn)"
   ]
  },
  {
   "cell_type": "markdown",
   "id": "f97ec99d-c5e1-493a-9e45-47ac3d66dc2a",
   "metadata": {},
   "source": [
    "## Predecir entidades"
   ]
  },
  {
   "cell_type": "code",
   "execution_count": 8,
   "id": "0d10884b-94d8-4589-a633-900ad619ef09",
   "metadata": {},
   "outputs": [
    {
     "data": {
      "text/html": [
       "<style>\n",
       ".list-inline {list-style: none; margin:0; padding: 0}\n",
       ".list-inline>li {display: inline-block}\n",
       ".list-inline>li:not(:last-child)::after {content: \"\\00b7\"; padding: 0 .5ex}\n",
       "</style>\n",
       "<ol class=list-inline><li>'nombre'</li><li>'consecutivo'</li><li>'infectados'</li></ol>\n"
      ],
      "text/latex": [
       "\\begin{enumerate*}\n",
       "\\item 'nombre'\n",
       "\\item 'consecutivo'\n",
       "\\item 'infectados'\n",
       "\\end{enumerate*}\n"
      ],
      "text/markdown": [
       "1. 'nombre'\n",
       "2. 'consecutivo'\n",
       "3. 'infectados'\n",
       "\n",
       "\n"
      ],
      "text/plain": [
       "[1] \"nombre\"      \"consecutivo\" \"infectados\" "
      ]
     },
     "metadata": {},
     "output_type": "display_data"
    },
    {
     "data": {
      "image/png": "[encoded data removed]",
      "text/plain": [
       "plot without title"
      ]
     },
     "metadata": {
      "image/png": {
       "height": 420,
       "width": 420
      }
     },
     "output_type": "display_data"
    }
   ],
   "source": [
    "# Graficar los datos recuperadops\n",
    "\n",
    "resultado <- data.frame(\n",
    "                        nombre = \"predicho\",\n",
    "                        consecutivo = 1:310,\n",
    "                        infectados = eval_nn * ((max_inf - min_inf)+min_inf)*max_d[2]/100000)\n",
    "\n",
    "\n",
    "datosfs <- datosf %>% select(nombre, consecutivo, infectados)\n",
    "resultado <- rbind(resultado, datosfs)\n",
    "#resultado\n",
    "names(resultado)\n",
    "\n",
    "resultado %>% ggplot(aes(x = consecutivo, y = infectados, group = nombre, color = nombre)) +\n",
    "geom_point( ) + geom_line()\n",
    "\n",
    "\n"
   ]
  },
  {
   "cell_type": "code",
   "execution_count": 9,
   "id": "b7ec1fd0-e41d-400c-8d37-16864ff281a8",
   "metadata": {},
   "outputs": [
    {
     "data": {
      "text/html": [
       "<strong>poblacion:</strong> '9018645'"
      ],
      "text/latex": [
       "\\textbf{poblacion:} '9018645'"
      ],
      "text/markdown": [
       "**poblacion:** '9018645'"
      ],
      "text/plain": [
       "poblacion \n",
       "\"9018645\" "
      ]
     },
     "metadata": {},
     "output_type": "display_data"
    },
    {
     "data": {
      "text/html": [
       "<style>\n",
       ".list-inline {list-style: none; margin:0; padding: 0}\n",
       ".list-inline>li {display: inline-block}\n",
       ".list-inline>li:not(:last-child)::after {content: \"\\00b7\"; padding: 0 .5ex}\n",
       "</style>\n",
       "<ol class=list-inline><li>'nombre'</li><li>'consecutivo'</li><li>'infectados'</li></ol>\n"
      ],
      "text/latex": [
       "\\begin{enumerate*}\n",
       "\\item 'nombre'\n",
       "\\item 'consecutivo'\n",
       "\\item 'infectados'\n",
       "\\end{enumerate*}\n"
      ],
      "text/markdown": [
       "1. 'nombre'\n",
       "2. 'consecutivo'\n",
       "3. 'infectados'\n",
       "\n",
       "\n"
      ],
      "text/plain": [
       "[1] \"nombre\"      \"consecutivo\" \"infectados\" "
      ]
     },
     "metadata": {},
     "output_type": "display_data"
    },
    {
     "data": {
      "image/png": "[encoded data removed]",
      "text/plain": [
       "plot without title"
      ]
     },
     "metadata": {
      "image/png": {
       "height": 420,
       "width": 420
      }
     },
     "output_type": "display_data"
    }
   ],
   "source": [
    "datosdf <- datos %>% filter(año == \"2020\") %>% filter(nombre == \"DISTRITO FEDERAL\")  %>% mutate(consecutivo = 1:310)  %>%\n",
    "        mutate(infectadosnew = ((infectados/poblacion)*100000))\n",
    "\n",
    "ddfnorm <- scale(select(datosdf, consecutivo, poblacion, infectadosnew), center = min_d, scale = max_d - min_d)\n",
    "#head(ddfnorm)\n",
    "\n",
    "#Prediccion\n",
    "eval_nn <- predict(nnet, ddfnorm[, 1:2])\n",
    "\n",
    "max_df <- apply(datosdf, 2, max)\n",
    "max_df[2]\n",
    "###\n",
    "# Graficar los datos recuperadops\n",
    "\n",
    "resultado <- data.frame(\n",
    "                        nombre = \"predicho\",\n",
    "                        consecutivo = 1:310,\n",
    "                        infectados = eval_nn * ((max_inf - min_inf)+min_inf)*as.integer(max_df[2])/100000)\n",
    "\n",
    "\n",
    "datosfs <- datosdf %>% select(nombre, consecutivo, infectados)\n",
    "resultado <- rbind(resultado, datosfs)\n",
    "#resultado\n",
    "names(resultado)\n",
    "\n",
    "resultado %>% ggplot(aes(x = consecutivo, y = infectados, group = nombre, color = nombre)) +\n",
    "    geom_point( ) + \n",
    "    geom_line()\n"
   ]
  },
  {
   "cell_type": "code",
   "execution_count": 10,
   "id": "83db2116-f526-43ab-ac9d-5cfe1bc23c29",
   "metadata": {},
   "outputs": [
    {
     "data": {
      "text/html": [
       "<strong>poblacion:</strong> '17427790'"
      ],
      "text/latex": [
       "\\textbf{poblacion:} '17427790'"
      ],
      "text/markdown": [
       "**poblacion:** '17427790'"
      ],
      "text/plain": [
       " poblacion \n",
       "\"17427790\" "
      ]
     },
     "metadata": {},
     "output_type": "display_data"
    },
    {
     "data": {
      "text/html": [
       "<style>\n",
       ".list-inline {list-style: none; margin:0; padding: 0}\n",
       ".list-inline>li {display: inline-block}\n",
       ".list-inline>li:not(:last-child)::after {content: \"\\00b7\"; padding: 0 .5ex}\n",
       "</style>\n",
       "<ol class=list-inline><li>'nombre'</li><li>'consecutivo'</li><li>'infectados'</li></ol>\n"
      ],
      "text/latex": [
       "\\begin{enumerate*}\n",
       "\\item 'nombre'\n",
       "\\item 'consecutivo'\n",
       "\\item 'infectados'\n",
       "\\end{enumerate*}\n"
      ],
      "text/markdown": [
       "1. 'nombre'\n",
       "2. 'consecutivo'\n",
       "3. 'infectados'\n",
       "\n",
       "\n"
      ],
      "text/plain": [
       "[1] \"nombre\"      \"consecutivo\" \"infectados\" "
      ]
     },
     "metadata": {},
     "output_type": "display_data"
    },
    {
     "data": {
      "image/png": "[encoded data removed]",
      "text/plain": [
       "plot without title"
      ]
     },
     "metadata": {
      "image/png": {
       "height": 420,
       "width": 420
      }
     },
     "output_type": "display_data"
    }
   ],
   "source": [
    "datosdf <- datos %>% filter(año == \"2020\") %>% filter(nombre == \"MEXICO\")  %>% mutate(consecutivo = 1:310)  %>%\n",
    "        mutate(infectadosnew = ((infectados/poblacion)*100000))\n",
    "\n",
    "ddfnorm <- scale(select(datosdf, consecutivo, poblacion, infectadosnew), center = min_d, scale = max_d - min_d)\n",
    "#head(ddfnorm)\n",
    "\n",
    "#Prediccion\n",
    "eval_nn <- predict(nnet, ddfnorm[, 1:2])\n",
    "\n",
    "max_df <- apply(datosdf, 2, max)\n",
    "max_df[2]\n",
    "###\n",
    "# Graficar los datos recuperadops\n",
    "\n",
    "resultado <- data.frame(\n",
    "                        nombre = \"predicho\",\n",
    "                        consecutivo = 1:310,\n",
    "                        infectados = eval_nn * ((max_inf - min_inf)+min_inf)*as.integer(max_df[2])/100000)\n",
    "\n",
    "\n",
    "datosfs <- datosdf %>% select(nombre, consecutivo, infectados)\n",
    "resultado <- rbind(resultado, datosfs)\n",
    "#resultado\n",
    "names(resultado)\n",
    "\n",
    "resultado %>% ggplot(aes(x = consecutivo, y = infectados, group = nombre, color = nombre)) +\n",
    "    geom_point( ) + \n",
    "    geom_line()\n"
   ]
  },
  {
   "cell_type": "markdown",
   "id": "e91034ae-6aff-4a01-9b19-4235007e52bc",
   "metadata": {},
   "source": [
    "# Predecir el siguiente 10% de datos \n"
   ]
  },
  {
   "cell_type": "code",
   "execution_count": 32,
   "id": "53b8aae2-d771-4fa3-aca5-d12e030b7239",
   "metadata": {},
   "outputs": [
    {
     "data": {
      "text/html": [
       "1474.56173683812"
      ],
      "text/latex": [
       "1474.56173683812"
      ],
      "text/markdown": [
       "1474.56173683812"
      ],
      "text/plain": [
       "[1] 1474.562"
      ]
     },
     "metadata": {},
     "output_type": "display_data"
    },
    {
     "data": {
      "text/html": [
       "5142.71971544178"
      ],
      "text/latex": [
       "5142.71971544178"
      ],
      "text/markdown": [
       "5142.71971544178"
      ],
      "text/plain": [
       "[1] 5142.72"
      ]
     },
     "metadata": {},
     "output_type": "display_data"
    },
    {
     "data": {
      "image/png": "[encoded data removed]",
      "text/plain": [
       "plot without title"
      ]
     },
     "metadata": {
      "image/png": {
       "height": 420,
       "width": 420
      }
     },
     "output_type": "display_data"
    }
   ],
   "source": [
    "# Tratamiento de datos\n",
    "datosf <- datos %>% filter(nombre == \"Nacional\") %>%  mutate(consecutivo = 1:853)  %>%\n",
    "        mutate(infectadosnew = ((infectados/poblacion)*100000)) %>% filter(consecutivo <= 330)\n",
    "\n",
    "dnacionalnorm <- scale(select(datosf, consecutivo, poblacion, infectadosnew), center = min_d, scale = max_d - min_d)\n",
    "\n",
    "#Prediccion\n",
    "eval_nn <- predict(nnet, dnacionalnorm[, 1:2])\n",
    "\n",
    "# Graficar los datos recuperadops\n",
    "\n",
    "resultado <- data.frame(\n",
    "                        nombre = \"predicho\",\n",
    "                        consecutivo = 1:330,\n",
    "                        infectados = eval_nn * ((max_inf - min_inf)+min_inf)*max_d[2]/100000)\n",
    "\n",
    "\n",
    "datosfs <- datosf %>% select(nombre, consecutivo, infectados)\n",
    "resultado <- rbind(resultado, datosfs)\n",
    "#resultado\n",
    "#names(resultado)\n",
    "\n",
    "resultado %>% ggplot(aes(x = consecutivo, y = infectados, group = nombre, color = nombre)) +\n",
    "geom_point( ) + geom_line() #+ geom_cartesian(xlim = c(300, 330))\n",
    "\n",
    "mean(abs(resultado$infectados[1:310] - datosfs$infectados[1:310]))\n",
    "mean(abs(resultado$infectados[300:330] - datosfs$infectados[300:330]))"
   ]
  },
  {
   "cell_type": "code",
   "execution_count": null,
   "id": "7d7a1901-3037-4aea-b46b-56f230088f9e",
   "metadata": {},
   "outputs": [],
   "source": []
  },
  {
   "cell_type": "markdown",
   "id": "2517ef83-9e58-4dac-8d82-1d51fbfaaa25",
   "metadata": {},
   "source": [
    "# Ejercicio 1"
   ]
  },
  {
   "cell_type": "markdown",
   "id": "55f332db-834b-45f3-82d4-93b1a17776f3",
   "metadata": {},
   "source": [
    "Replique el ejemplo de la predicción de los siguientes 30 días de su municipio y de otros dos y anime la gráfica con gganimate. \n",
    "</br>\n",
    "* Comparta por el chat o el github su GIF</br>\n",
    "* Comparta la estructura de su modelo de la RNA</br>\n",
    "* Calcule su error de sesgo y la varianza \n",
    "\n"
   ]
  },
  {
   "cell_type": "code",
   "execution_count": 54,
   "id": "5c1f3302-dc33-44e1-ae39-fec9a0f08a9b",
   "metadata": {},
   "outputs": [
    {
     "data": {
      "text/html": [
       "<table class=\"dataframe\">\n",
       "<caption>A data.frame: 3 × 856</caption>\n",
       "<thead>\n",
       "\t<tr><th></th><th scope=col>cve_ent</th><th scope=col>poblacion</th><th scope=col>nombre</th><th scope=col>X26.02.2020</th><th scope=col>X27.02.2020</th><th scope=col>X28.02.2020</th><th scope=col>X29.02.2020</th><th scope=col>X01.03.2020</th><th scope=col>X02.03.2020</th><th scope=col>X03.03.2020</th><th scope=col>...</th><th scope=col>X18.06.2022</th><th scope=col>X19.06.2022</th><th scope=col>X20.06.2022</th><th scope=col>X21.06.2022</th><th scope=col>X22.06.2022</th><th scope=col>X23.06.2022</th><th scope=col>X24.06.2022</th><th scope=col>X25.06.2022</th><th scope=col>X26.06.2022</th><th scope=col>X27.06.2022</th></tr>\n",
       "\t<tr><th></th><th scope=col>&lt;int&gt;</th><th scope=col>&lt;int&gt;</th><th scope=col>&lt;chr&gt;</th><th scope=col>&lt;int&gt;</th><th scope=col>&lt;int&gt;</th><th scope=col>&lt;int&gt;</th><th scope=col>&lt;int&gt;</th><th scope=col>&lt;int&gt;</th><th scope=col>&lt;int&gt;</th><th scope=col>&lt;int&gt;</th><th scope=col>...</th><th scope=col>&lt;int&gt;</th><th scope=col>&lt;int&gt;</th><th scope=col>&lt;int&gt;</th><th scope=col>&lt;int&gt;</th><th scope=col>&lt;int&gt;</th><th scope=col>&lt;int&gt;</th><th scope=col>&lt;int&gt;</th><th scope=col>&lt;int&gt;</th><th scope=col>&lt;int&gt;</th><th scope=col>&lt;int&gt;</th></tr>\n",
       "</thead>\n",
       "<tbody>\n",
       "\t<tr><th scope=row>702</th><td>10004</td><td> 37479</td><td>Cuencame</td><td>0</td><td>0</td><td>0</td><td>0</td><td>0</td><td>0</td><td>0</td><td>...</td><td> 0</td><td> 0</td><td>  0</td><td> 0</td><td>  0</td><td>  0</td><td> 0</td><td> 0</td><td> 0</td><td>0</td></tr>\n",
       "\t<tr><th scope=row>703</th><td>10005</td><td>695597</td><td>Durango </td><td>0</td><td>0</td><td>0</td><td>0</td><td>0</td><td>0</td><td>0</td><td>...</td><td>14</td><td>18</td><td>119</td><td>93</td><td>120</td><td>130</td><td>96</td><td>22</td><td>21</td><td>0</td></tr>\n",
       "\t<tr><th scope=row>713</th><td>10012</td><td>164763</td><td>Lerdo   </td><td>0</td><td>0</td><td>0</td><td>0</td><td>0</td><td>0</td><td>0</td><td>...</td><td> 0</td><td> 0</td><td>  7</td><td> 1</td><td>  3</td><td>  0</td><td> 7</td><td> 0</td><td> 0</td><td>0</td></tr>\n",
       "</tbody>\n",
       "</table>\n"
      ],
      "text/latex": [
       "A data.frame: 3 × 856\n",
       "\\begin{tabular}{r|lllllllllllllllllllll}\n",
       "  & cve\\_ent & poblacion & nombre & X26.02.2020 & X27.02.2020 & X28.02.2020 & X29.02.2020 & X01.03.2020 & X02.03.2020 & X03.03.2020 & ... & X18.06.2022 & X19.06.2022 & X20.06.2022 & X21.06.2022 & X22.06.2022 & X23.06.2022 & X24.06.2022 & X25.06.2022 & X26.06.2022 & X27.06.2022\\\\\n",
       "  & <int> & <int> & <chr> & <int> & <int> & <int> & <int> & <int> & <int> & <int> & ... & <int> & <int> & <int> & <int> & <int> & <int> & <int> & <int> & <int> & <int>\\\\\n",
       "\\hline\n",
       "\t702 & 10004 &  37479 & Cuencame & 0 & 0 & 0 & 0 & 0 & 0 & 0 & ... &  0 &  0 &   0 &  0 &   0 &   0 &  0 &  0 &  0 & 0\\\\\n",
       "\t703 & 10005 & 695597 & Durango  & 0 & 0 & 0 & 0 & 0 & 0 & 0 & ... & 14 & 18 & 119 & 93 & 120 & 130 & 96 & 22 & 21 & 0\\\\\n",
       "\t713 & 10012 & 164763 & Lerdo    & 0 & 0 & 0 & 0 & 0 & 0 & 0 & ... &  0 &  0 &   7 &  1 &   3 &   0 &  7 &  0 &  0 & 0\\\\\n",
       "\\end{tabular}\n"
      ],
      "text/markdown": [
       "\n",
       "A data.frame: 3 × 856\n",
       "\n",
       "| <!--/--> | cve_ent &lt;int&gt; | poblacion &lt;int&gt; | nombre &lt;chr&gt; | X26.02.2020 &lt;int&gt; | X27.02.2020 &lt;int&gt; | X28.02.2020 &lt;int&gt; | X29.02.2020 &lt;int&gt; | X01.03.2020 &lt;int&gt; | X02.03.2020 &lt;int&gt; | X03.03.2020 &lt;int&gt; | ... ... | X18.06.2022 &lt;int&gt; | X19.06.2022 &lt;int&gt; | X20.06.2022 &lt;int&gt; | X21.06.2022 &lt;int&gt; | X22.06.2022 &lt;int&gt; | X23.06.2022 &lt;int&gt; | X24.06.2022 &lt;int&gt; | X25.06.2022 &lt;int&gt; | X26.06.2022 &lt;int&gt; | X27.06.2022 &lt;int&gt; |\n",
       "|---|---|---|---|---|---|---|---|---|---|---|---|---|---|---|---|---|---|---|---|---|---|\n",
       "| 702 | 10004 |  37479 | Cuencame | 0 | 0 | 0 | 0 | 0 | 0 | 0 | ... |  0 |  0 |   0 |  0 |   0 |   0 |  0 |  0 |  0 | 0 |\n",
       "| 703 | 10005 | 695597 | Durango  | 0 | 0 | 0 | 0 | 0 | 0 | 0 | ... | 14 | 18 | 119 | 93 | 120 | 130 | 96 | 22 | 21 | 0 |\n",
       "| 713 | 10012 | 164763 | Lerdo    | 0 | 0 | 0 | 0 | 0 | 0 | 0 | ... |  0 |  0 |   7 |  1 |   3 |   0 |  7 |  0 |  0 | 0 |\n",
       "\n"
      ],
      "text/plain": [
       "    cve_ent poblacion nombre   X26.02.2020 X27.02.2020 X28.02.2020 X29.02.2020\n",
       "702 10004    37479    Cuencame 0           0           0           0          \n",
       "703 10005   695597    Durango  0           0           0           0          \n",
       "713 10012   164763    Lerdo    0           0           0           0          \n",
       "    X01.03.2020 X02.03.2020 X03.03.2020 ... X18.06.2022 X19.06.2022 X20.06.2022\n",
       "702 0           0           0           ...  0           0            0        \n",
       "703 0           0           0           ... 14          18          119        \n",
       "713 0           0           0           ...  0           0            7        \n",
       "    X21.06.2022 X22.06.2022 X23.06.2022 X24.06.2022 X25.06.2022 X26.06.2022\n",
       "702  0            0           0          0           0           0         \n",
       "703 93          120         130         96          22          21         \n",
       "713  1            3           0          7           0           0         \n",
       "    X27.06.2022\n",
       "702 0          \n",
       "703 0          \n",
       "713 0          "
      ]
     },
     "metadata": {},
     "output_type": "display_data"
    }
   ],
   "source": [
    "casos_diarios_municipio <-  read.csv(file = \"Casos_Diarios_Municipio.csv\")\n",
    "casos_diarios_duango <- casos_diarios_municipio[casos_diarios_municipio$cve_ent == c(\"10005\", \"10012\", \"10004\"), ]\n",
    "casos_diarios_duango"
   ]
  },
  {
   "cell_type": "code",
   "execution_count": 61,
   "id": "716d1ef6-1eb2-42ea-b819-0c8db9b9e435",
   "metadata": {},
   "outputs": [
    {
     "data": {
      "text/html": [
       "<table class=\"dataframe\">\n",
       "<caption>A data.frame: 2559 × 8</caption>\n",
       "<thead>\n",
       "\t<tr><th scope=col>cve_ent</th><th scope=col>poblacion</th><th scope=col>nombre</th><th scope=col>dias</th><th scope=col>dia</th><th scope=col>mes</th><th scope=col>año</th><th scope=col>infectados</th></tr>\n",
       "\t<tr><th scope=col>&lt;int&gt;</th><th scope=col>&lt;int&gt;</th><th scope=col>&lt;chr&gt;</th><th scope=col>&lt;chr&gt;</th><th scope=col>&lt;chr&gt;</th><th scope=col>&lt;chr&gt;</th><th scope=col>&lt;chr&gt;</th><th scope=col>&lt;int&gt;</th></tr>\n",
       "</thead>\n",
       "<tbody>\n",
       "\t<tr><td>10004</td><td> 37479</td><td>Cuencame</td><td>26/02/2020</td><td>26</td><td>02</td><td>2020</td><td>0</td></tr>\n",
       "\t<tr><td>10005</td><td>695597</td><td>Durango </td><td>26/02/2020</td><td>26</td><td>02</td><td>2020</td><td>0</td></tr>\n",
       "\t<tr><td>10012</td><td>164763</td><td>Lerdo   </td><td>26/02/2020</td><td>26</td><td>02</td><td>2020</td><td>0</td></tr>\n",
       "\t<tr><td>10004</td><td> 37479</td><td>Cuencame</td><td>27/02/2020</td><td>27</td><td>02</td><td>2020</td><td>0</td></tr>\n",
       "\t<tr><td>10005</td><td>695597</td><td>Durango </td><td>27/02/2020</td><td>27</td><td>02</td><td>2020</td><td>0</td></tr>\n",
       "\t<tr><td>10012</td><td>164763</td><td>Lerdo   </td><td>27/02/2020</td><td>27</td><td>02</td><td>2020</td><td>0</td></tr>\n",
       "\t<tr><td>10004</td><td> 37479</td><td>Cuencame</td><td>28/02/2020</td><td>28</td><td>02</td><td>2020</td><td>0</td></tr>\n",
       "\t<tr><td>10005</td><td>695597</td><td>Durango </td><td>28/02/2020</td><td>28</td><td>02</td><td>2020</td><td>0</td></tr>\n",
       "\t<tr><td>10012</td><td>164763</td><td>Lerdo   </td><td>28/02/2020</td><td>28</td><td>02</td><td>2020</td><td>0</td></tr>\n",
       "\t<tr><td>10004</td><td> 37479</td><td>Cuencame</td><td>29/02/2020</td><td>29</td><td>02</td><td>2020</td><td>0</td></tr>\n",
       "\t<tr><td>10005</td><td>695597</td><td>Durango </td><td>29/02/2020</td><td>29</td><td>02</td><td>2020</td><td>0</td></tr>\n",
       "\t<tr><td>10012</td><td>164763</td><td>Lerdo   </td><td>29/02/2020</td><td>29</td><td>02</td><td>2020</td><td>0</td></tr>\n",
       "\t<tr><td>10004</td><td> 37479</td><td>Cuencame</td><td>01/03/2020</td><td>01</td><td>03</td><td>2020</td><td>0</td></tr>\n",
       "\t<tr><td>10005</td><td>695597</td><td>Durango </td><td>01/03/2020</td><td>01</td><td>03</td><td>2020</td><td>0</td></tr>\n",
       "\t<tr><td>10012</td><td>164763</td><td>Lerdo   </td><td>01/03/2020</td><td>01</td><td>03</td><td>2020</td><td>0</td></tr>\n",
       "\t<tr><td>10004</td><td> 37479</td><td>Cuencame</td><td>02/03/2020</td><td>02</td><td>03</td><td>2020</td><td>0</td></tr>\n",
       "\t<tr><td>10005</td><td>695597</td><td>Durango </td><td>02/03/2020</td><td>02</td><td>03</td><td>2020</td><td>0</td></tr>\n",
       "\t<tr><td>10012</td><td>164763</td><td>Lerdo   </td><td>02/03/2020</td><td>02</td><td>03</td><td>2020</td><td>0</td></tr>\n",
       "\t<tr><td>10004</td><td> 37479</td><td>Cuencame</td><td>03/03/2020</td><td>03</td><td>03</td><td>2020</td><td>0</td></tr>\n",
       "\t<tr><td>10005</td><td>695597</td><td>Durango </td><td>03/03/2020</td><td>03</td><td>03</td><td>2020</td><td>0</td></tr>\n",
       "\t<tr><td>10012</td><td>164763</td><td>Lerdo   </td><td>03/03/2020</td><td>03</td><td>03</td><td>2020</td><td>0</td></tr>\n",
       "\t<tr><td>10004</td><td> 37479</td><td>Cuencame</td><td>04/03/2020</td><td>04</td><td>03</td><td>2020</td><td>0</td></tr>\n",
       "\t<tr><td>10005</td><td>695597</td><td>Durango </td><td>04/03/2020</td><td>04</td><td>03</td><td>2020</td><td>0</td></tr>\n",
       "\t<tr><td>10012</td><td>164763</td><td>Lerdo   </td><td>04/03/2020</td><td>04</td><td>03</td><td>2020</td><td>0</td></tr>\n",
       "\t<tr><td>10004</td><td> 37479</td><td>Cuencame</td><td>05/03/2020</td><td>05</td><td>03</td><td>2020</td><td>0</td></tr>\n",
       "\t<tr><td>10005</td><td>695597</td><td>Durango </td><td>05/03/2020</td><td>05</td><td>03</td><td>2020</td><td>0</td></tr>\n",
       "\t<tr><td>10012</td><td>164763</td><td>Lerdo   </td><td>05/03/2020</td><td>05</td><td>03</td><td>2020</td><td>0</td></tr>\n",
       "\t<tr><td>10004</td><td> 37479</td><td>Cuencame</td><td>06/03/2020</td><td>06</td><td>03</td><td>2020</td><td>0</td></tr>\n",
       "\t<tr><td>10005</td><td>695597</td><td>Durango </td><td>06/03/2020</td><td>06</td><td>03</td><td>2020</td><td>0</td></tr>\n",
       "\t<tr><td>10012</td><td>164763</td><td>Lerdo   </td><td>06/03/2020</td><td>06</td><td>03</td><td>2020</td><td>0</td></tr>\n",
       "\t<tr><td>...</td><td>...</td><td>...</td><td>...</td><td>...</td><td>...</td><td>...</td><td>...</td></tr>\n",
       "\t<tr><td>10004</td><td> 37479</td><td>Cuencame</td><td>18/06/2022</td><td>18</td><td>06</td><td>2022</td><td>  0</td></tr>\n",
       "\t<tr><td>10005</td><td>695597</td><td>Durango </td><td>18/06/2022</td><td>18</td><td>06</td><td>2022</td><td> 14</td></tr>\n",
       "\t<tr><td>10012</td><td>164763</td><td>Lerdo   </td><td>18/06/2022</td><td>18</td><td>06</td><td>2022</td><td>  0</td></tr>\n",
       "\t<tr><td>10004</td><td> 37479</td><td>Cuencame</td><td>19/06/2022</td><td>19</td><td>06</td><td>2022</td><td>  0</td></tr>\n",
       "\t<tr><td>10005</td><td>695597</td><td>Durango </td><td>19/06/2022</td><td>19</td><td>06</td><td>2022</td><td> 18</td></tr>\n",
       "\t<tr><td>10012</td><td>164763</td><td>Lerdo   </td><td>19/06/2022</td><td>19</td><td>06</td><td>2022</td><td>  0</td></tr>\n",
       "\t<tr><td>10004</td><td> 37479</td><td>Cuencame</td><td>20/06/2022</td><td>20</td><td>06</td><td>2022</td><td>  0</td></tr>\n",
       "\t<tr><td>10005</td><td>695597</td><td>Durango </td><td>20/06/2022</td><td>20</td><td>06</td><td>2022</td><td>119</td></tr>\n",
       "\t<tr><td>10012</td><td>164763</td><td>Lerdo   </td><td>20/06/2022</td><td>20</td><td>06</td><td>2022</td><td>  7</td></tr>\n",
       "\t<tr><td>10004</td><td> 37479</td><td>Cuencame</td><td>21/06/2022</td><td>21</td><td>06</td><td>2022</td><td>  0</td></tr>\n",
       "\t<tr><td>10005</td><td>695597</td><td>Durango </td><td>21/06/2022</td><td>21</td><td>06</td><td>2022</td><td> 93</td></tr>\n",
       "\t<tr><td>10012</td><td>164763</td><td>Lerdo   </td><td>21/06/2022</td><td>21</td><td>06</td><td>2022</td><td>  1</td></tr>\n",
       "\t<tr><td>10004</td><td> 37479</td><td>Cuencame</td><td>22/06/2022</td><td>22</td><td>06</td><td>2022</td><td>  0</td></tr>\n",
       "\t<tr><td>10005</td><td>695597</td><td>Durango </td><td>22/06/2022</td><td>22</td><td>06</td><td>2022</td><td>120</td></tr>\n",
       "\t<tr><td>10012</td><td>164763</td><td>Lerdo   </td><td>22/06/2022</td><td>22</td><td>06</td><td>2022</td><td>  3</td></tr>\n",
       "\t<tr><td>10004</td><td> 37479</td><td>Cuencame</td><td>23/06/2022</td><td>23</td><td>06</td><td>2022</td><td>  0</td></tr>\n",
       "\t<tr><td>10005</td><td>695597</td><td>Durango </td><td>23/06/2022</td><td>23</td><td>06</td><td>2022</td><td>130</td></tr>\n",
       "\t<tr><td>10012</td><td>164763</td><td>Lerdo   </td><td>23/06/2022</td><td>23</td><td>06</td><td>2022</td><td>  0</td></tr>\n",
       "\t<tr><td>10004</td><td> 37479</td><td>Cuencame</td><td>24/06/2022</td><td>24</td><td>06</td><td>2022</td><td>  0</td></tr>\n",
       "\t<tr><td>10005</td><td>695597</td><td>Durango </td><td>24/06/2022</td><td>24</td><td>06</td><td>2022</td><td> 96</td></tr>\n",
       "\t<tr><td>10012</td><td>164763</td><td>Lerdo   </td><td>24/06/2022</td><td>24</td><td>06</td><td>2022</td><td>  7</td></tr>\n",
       "\t<tr><td>10004</td><td> 37479</td><td>Cuencame</td><td>25/06/2022</td><td>25</td><td>06</td><td>2022</td><td>  0</td></tr>\n",
       "\t<tr><td>10005</td><td>695597</td><td>Durango </td><td>25/06/2022</td><td>25</td><td>06</td><td>2022</td><td> 22</td></tr>\n",
       "\t<tr><td>10012</td><td>164763</td><td>Lerdo   </td><td>25/06/2022</td><td>25</td><td>06</td><td>2022</td><td>  0</td></tr>\n",
       "\t<tr><td>10004</td><td> 37479</td><td>Cuencame</td><td>26/06/2022</td><td>26</td><td>06</td><td>2022</td><td>  0</td></tr>\n",
       "\t<tr><td>10005</td><td>695597</td><td>Durango </td><td>26/06/2022</td><td>26</td><td>06</td><td>2022</td><td> 21</td></tr>\n",
       "\t<tr><td>10012</td><td>164763</td><td>Lerdo   </td><td>26/06/2022</td><td>26</td><td>06</td><td>2022</td><td>  0</td></tr>\n",
       "\t<tr><td>10004</td><td> 37479</td><td>Cuencame</td><td>27/06/2022</td><td>27</td><td>06</td><td>2022</td><td>  0</td></tr>\n",
       "\t<tr><td>10005</td><td>695597</td><td>Durango </td><td>27/06/2022</td><td>27</td><td>06</td><td>2022</td><td>  0</td></tr>\n",
       "\t<tr><td>10012</td><td>164763</td><td>Lerdo   </td><td>27/06/2022</td><td>27</td><td>06</td><td>2022</td><td>  0</td></tr>\n",
       "</tbody>\n",
       "</table>\n"
      ],
      "text/latex": [
       "A data.frame: 2559 × 8\n",
       "\\begin{tabular}{llllllll}\n",
       " cve\\_ent & poblacion & nombre & dias & dia & mes & año & infectados\\\\\n",
       " <int> & <int> & <chr> & <chr> & <chr> & <chr> & <chr> & <int>\\\\\n",
       "\\hline\n",
       "\t 10004 &  37479 & Cuencame & 26/02/2020 & 26 & 02 & 2020 & 0\\\\\n",
       "\t 10005 & 695597 & Durango  & 26/02/2020 & 26 & 02 & 2020 & 0\\\\\n",
       "\t 10012 & 164763 & Lerdo    & 26/02/2020 & 26 & 02 & 2020 & 0\\\\\n",
       "\t 10004 &  37479 & Cuencame & 27/02/2020 & 27 & 02 & 2020 & 0\\\\\n",
       "\t 10005 & 695597 & Durango  & 27/02/2020 & 27 & 02 & 2020 & 0\\\\\n",
       "\t 10012 & 164763 & Lerdo    & 27/02/2020 & 27 & 02 & 2020 & 0\\\\\n",
       "\t 10004 &  37479 & Cuencame & 28/02/2020 & 28 & 02 & 2020 & 0\\\\\n",
       "\t 10005 & 695597 & Durango  & 28/02/2020 & 28 & 02 & 2020 & 0\\\\\n",
       "\t 10012 & 164763 & Lerdo    & 28/02/2020 & 28 & 02 & 2020 & 0\\\\\n",
       "\t 10004 &  37479 & Cuencame & 29/02/2020 & 29 & 02 & 2020 & 0\\\\\n",
       "\t 10005 & 695597 & Durango  & 29/02/2020 & 29 & 02 & 2020 & 0\\\\\n",
       "\t 10012 & 164763 & Lerdo    & 29/02/2020 & 29 & 02 & 2020 & 0\\\\\n",
       "\t 10004 &  37479 & Cuencame & 01/03/2020 & 01 & 03 & 2020 & 0\\\\\n",
       "\t 10005 & 695597 & Durango  & 01/03/2020 & 01 & 03 & 2020 & 0\\\\\n",
       "\t 10012 & 164763 & Lerdo    & 01/03/2020 & 01 & 03 & 2020 & 0\\\\\n",
       "\t 10004 &  37479 & Cuencame & 02/03/2020 & 02 & 03 & 2020 & 0\\\\\n",
       "\t 10005 & 695597 & Durango  & 02/03/2020 & 02 & 03 & 2020 & 0\\\\\n",
       "\t 10012 & 164763 & Lerdo    & 02/03/2020 & 02 & 03 & 2020 & 0\\\\\n",
       "\t 10004 &  37479 & Cuencame & 03/03/2020 & 03 & 03 & 2020 & 0\\\\\n",
       "\t 10005 & 695597 & Durango  & 03/03/2020 & 03 & 03 & 2020 & 0\\\\\n",
       "\t 10012 & 164763 & Lerdo    & 03/03/2020 & 03 & 03 & 2020 & 0\\\\\n",
       "\t 10004 &  37479 & Cuencame & 04/03/2020 & 04 & 03 & 2020 & 0\\\\\n",
       "\t 10005 & 695597 & Durango  & 04/03/2020 & 04 & 03 & 2020 & 0\\\\\n",
       "\t 10012 & 164763 & Lerdo    & 04/03/2020 & 04 & 03 & 2020 & 0\\\\\n",
       "\t 10004 &  37479 & Cuencame & 05/03/2020 & 05 & 03 & 2020 & 0\\\\\n",
       "\t 10005 & 695597 & Durango  & 05/03/2020 & 05 & 03 & 2020 & 0\\\\\n",
       "\t 10012 & 164763 & Lerdo    & 05/03/2020 & 05 & 03 & 2020 & 0\\\\\n",
       "\t 10004 &  37479 & Cuencame & 06/03/2020 & 06 & 03 & 2020 & 0\\\\\n",
       "\t 10005 & 695597 & Durango  & 06/03/2020 & 06 & 03 & 2020 & 0\\\\\n",
       "\t 10012 & 164763 & Lerdo    & 06/03/2020 & 06 & 03 & 2020 & 0\\\\\n",
       "\t ... & ... & ... & ... & ... & ... & ... & ...\\\\\n",
       "\t 10004 &  37479 & Cuencame & 18/06/2022 & 18 & 06 & 2022 &   0\\\\\n",
       "\t 10005 & 695597 & Durango  & 18/06/2022 & 18 & 06 & 2022 &  14\\\\\n",
       "\t 10012 & 164763 & Lerdo    & 18/06/2022 & 18 & 06 & 2022 &   0\\\\\n",
       "\t 10004 &  37479 & Cuencame & 19/06/2022 & 19 & 06 & 2022 &   0\\\\\n",
       "\t 10005 & 695597 & Durango  & 19/06/2022 & 19 & 06 & 2022 &  18\\\\\n",
       "\t 10012 & 164763 & Lerdo    & 19/06/2022 & 19 & 06 & 2022 &   0\\\\\n",
       "\t 10004 &  37479 & Cuencame & 20/06/2022 & 20 & 06 & 2022 &   0\\\\\n",
       "\t 10005 & 695597 & Durango  & 20/06/2022 & 20 & 06 & 2022 & 119\\\\\n",
       "\t 10012 & 164763 & Lerdo    & 20/06/2022 & 20 & 06 & 2022 &   7\\\\\n",
       "\t 10004 &  37479 & Cuencame & 21/06/2022 & 21 & 06 & 2022 &   0\\\\\n",
       "\t 10005 & 695597 & Durango  & 21/06/2022 & 21 & 06 & 2022 &  93\\\\\n",
       "\t 10012 & 164763 & Lerdo    & 21/06/2022 & 21 & 06 & 2022 &   1\\\\\n",
       "\t 10004 &  37479 & Cuencame & 22/06/2022 & 22 & 06 & 2022 &   0\\\\\n",
       "\t 10005 & 695597 & Durango  & 22/06/2022 & 22 & 06 & 2022 & 120\\\\\n",
       "\t 10012 & 164763 & Lerdo    & 22/06/2022 & 22 & 06 & 2022 &   3\\\\\n",
       "\t 10004 &  37479 & Cuencame & 23/06/2022 & 23 & 06 & 2022 &   0\\\\\n",
       "\t 10005 & 695597 & Durango  & 23/06/2022 & 23 & 06 & 2022 & 130\\\\\n",
       "\t 10012 & 164763 & Lerdo    & 23/06/2022 & 23 & 06 & 2022 &   0\\\\\n",
       "\t 10004 &  37479 & Cuencame & 24/06/2022 & 24 & 06 & 2022 &   0\\\\\n",
       "\t 10005 & 695597 & Durango  & 24/06/2022 & 24 & 06 & 2022 &  96\\\\\n",
       "\t 10012 & 164763 & Lerdo    & 24/06/2022 & 24 & 06 & 2022 &   7\\\\\n",
       "\t 10004 &  37479 & Cuencame & 25/06/2022 & 25 & 06 & 2022 &   0\\\\\n",
       "\t 10005 & 695597 & Durango  & 25/06/2022 & 25 & 06 & 2022 &  22\\\\\n",
       "\t 10012 & 164763 & Lerdo    & 25/06/2022 & 25 & 06 & 2022 &   0\\\\\n",
       "\t 10004 &  37479 & Cuencame & 26/06/2022 & 26 & 06 & 2022 &   0\\\\\n",
       "\t 10005 & 695597 & Durango  & 26/06/2022 & 26 & 06 & 2022 &  21\\\\\n",
       "\t 10012 & 164763 & Lerdo    & 26/06/2022 & 26 & 06 & 2022 &   0\\\\\n",
       "\t 10004 &  37479 & Cuencame & 27/06/2022 & 27 & 06 & 2022 &   0\\\\\n",
       "\t 10005 & 695597 & Durango  & 27/06/2022 & 27 & 06 & 2022 &   0\\\\\n",
       "\t 10012 & 164763 & Lerdo    & 27/06/2022 & 27 & 06 & 2022 &   0\\\\\n",
       "\\end{tabular}\n"
      ],
      "text/markdown": [
       "\n",
       "A data.frame: 2559 × 8\n",
       "\n",
       "| cve_ent &lt;int&gt; | poblacion &lt;int&gt; | nombre &lt;chr&gt; | dias &lt;chr&gt; | dia &lt;chr&gt; | mes &lt;chr&gt; | año &lt;chr&gt; | infectados &lt;int&gt; |\n",
       "|---|---|---|---|---|---|---|---|\n",
       "| 10004 |  37479 | Cuencame | 26/02/2020 | 26 | 02 | 2020 | 0 |\n",
       "| 10005 | 695597 | Durango  | 26/02/2020 | 26 | 02 | 2020 | 0 |\n",
       "| 10012 | 164763 | Lerdo    | 26/02/2020 | 26 | 02 | 2020 | 0 |\n",
       "| 10004 |  37479 | Cuencame | 27/02/2020 | 27 | 02 | 2020 | 0 |\n",
       "| 10005 | 695597 | Durango  | 27/02/2020 | 27 | 02 | 2020 | 0 |\n",
       "| 10012 | 164763 | Lerdo    | 27/02/2020 | 27 | 02 | 2020 | 0 |\n",
       "| 10004 |  37479 | Cuencame | 28/02/2020 | 28 | 02 | 2020 | 0 |\n",
       "| 10005 | 695597 | Durango  | 28/02/2020 | 28 | 02 | 2020 | 0 |\n",
       "| 10012 | 164763 | Lerdo    | 28/02/2020 | 28 | 02 | 2020 | 0 |\n",
       "| 10004 |  37479 | Cuencame | 29/02/2020 | 29 | 02 | 2020 | 0 |\n",
       "| 10005 | 695597 | Durango  | 29/02/2020 | 29 | 02 | 2020 | 0 |\n",
       "| 10012 | 164763 | Lerdo    | 29/02/2020 | 29 | 02 | 2020 | 0 |\n",
       "| 10004 |  37479 | Cuencame | 01/03/2020 | 01 | 03 | 2020 | 0 |\n",
       "| 10005 | 695597 | Durango  | 01/03/2020 | 01 | 03 | 2020 | 0 |\n",
       "| 10012 | 164763 | Lerdo    | 01/03/2020 | 01 | 03 | 2020 | 0 |\n",
       "| 10004 |  37479 | Cuencame | 02/03/2020 | 02 | 03 | 2020 | 0 |\n",
       "| 10005 | 695597 | Durango  | 02/03/2020 | 02 | 03 | 2020 | 0 |\n",
       "| 10012 | 164763 | Lerdo    | 02/03/2020 | 02 | 03 | 2020 | 0 |\n",
       "| 10004 |  37479 | Cuencame | 03/03/2020 | 03 | 03 | 2020 | 0 |\n",
       "| 10005 | 695597 | Durango  | 03/03/2020 | 03 | 03 | 2020 | 0 |\n",
       "| 10012 | 164763 | Lerdo    | 03/03/2020 | 03 | 03 | 2020 | 0 |\n",
       "| 10004 |  37479 | Cuencame | 04/03/2020 | 04 | 03 | 2020 | 0 |\n",
       "| 10005 | 695597 | Durango  | 04/03/2020 | 04 | 03 | 2020 | 0 |\n",
       "| 10012 | 164763 | Lerdo    | 04/03/2020 | 04 | 03 | 2020 | 0 |\n",
       "| 10004 |  37479 | Cuencame | 05/03/2020 | 05 | 03 | 2020 | 0 |\n",
       "| 10005 | 695597 | Durango  | 05/03/2020 | 05 | 03 | 2020 | 0 |\n",
       "| 10012 | 164763 | Lerdo    | 05/03/2020 | 05 | 03 | 2020 | 0 |\n",
       "| 10004 |  37479 | Cuencame | 06/03/2020 | 06 | 03 | 2020 | 0 |\n",
       "| 10005 | 695597 | Durango  | 06/03/2020 | 06 | 03 | 2020 | 0 |\n",
       "| 10012 | 164763 | Lerdo    | 06/03/2020 | 06 | 03 | 2020 | 0 |\n",
       "| ... | ... | ... | ... | ... | ... | ... | ... |\n",
       "| 10004 |  37479 | Cuencame | 18/06/2022 | 18 | 06 | 2022 |   0 |\n",
       "| 10005 | 695597 | Durango  | 18/06/2022 | 18 | 06 | 2022 |  14 |\n",
       "| 10012 | 164763 | Lerdo    | 18/06/2022 | 18 | 06 | 2022 |   0 |\n",
       "| 10004 |  37479 | Cuencame | 19/06/2022 | 19 | 06 | 2022 |   0 |\n",
       "| 10005 | 695597 | Durango  | 19/06/2022 | 19 | 06 | 2022 |  18 |\n",
       "| 10012 | 164763 | Lerdo    | 19/06/2022 | 19 | 06 | 2022 |   0 |\n",
       "| 10004 |  37479 | Cuencame | 20/06/2022 | 20 | 06 | 2022 |   0 |\n",
       "| 10005 | 695597 | Durango  | 20/06/2022 | 20 | 06 | 2022 | 119 |\n",
       "| 10012 | 164763 | Lerdo    | 20/06/2022 | 20 | 06 | 2022 |   7 |\n",
       "| 10004 |  37479 | Cuencame | 21/06/2022 | 21 | 06 | 2022 |   0 |\n",
       "| 10005 | 695597 | Durango  | 21/06/2022 | 21 | 06 | 2022 |  93 |\n",
       "| 10012 | 164763 | Lerdo    | 21/06/2022 | 21 | 06 | 2022 |   1 |\n",
       "| 10004 |  37479 | Cuencame | 22/06/2022 | 22 | 06 | 2022 |   0 |\n",
       "| 10005 | 695597 | Durango  | 22/06/2022 | 22 | 06 | 2022 | 120 |\n",
       "| 10012 | 164763 | Lerdo    | 22/06/2022 | 22 | 06 | 2022 |   3 |\n",
       "| 10004 |  37479 | Cuencame | 23/06/2022 | 23 | 06 | 2022 |   0 |\n",
       "| 10005 | 695597 | Durango  | 23/06/2022 | 23 | 06 | 2022 | 130 |\n",
       "| 10012 | 164763 | Lerdo    | 23/06/2022 | 23 | 06 | 2022 |   0 |\n",
       "| 10004 |  37479 | Cuencame | 24/06/2022 | 24 | 06 | 2022 |   0 |\n",
       "| 10005 | 695597 | Durango  | 24/06/2022 | 24 | 06 | 2022 |  96 |\n",
       "| 10012 | 164763 | Lerdo    | 24/06/2022 | 24 | 06 | 2022 |   7 |\n",
       "| 10004 |  37479 | Cuencame | 25/06/2022 | 25 | 06 | 2022 |   0 |\n",
       "| 10005 | 695597 | Durango  | 25/06/2022 | 25 | 06 | 2022 |  22 |\n",
       "| 10012 | 164763 | Lerdo    | 25/06/2022 | 25 | 06 | 2022 |   0 |\n",
       "| 10004 |  37479 | Cuencame | 26/06/2022 | 26 | 06 | 2022 |   0 |\n",
       "| 10005 | 695597 | Durango  | 26/06/2022 | 26 | 06 | 2022 |  21 |\n",
       "| 10012 | 164763 | Lerdo    | 26/06/2022 | 26 | 06 | 2022 |   0 |\n",
       "| 10004 |  37479 | Cuencame | 27/06/2022 | 27 | 06 | 2022 |   0 |\n",
       "| 10005 | 695597 | Durango  | 27/06/2022 | 27 | 06 | 2022 |   0 |\n",
       "| 10012 | 164763 | Lerdo    | 27/06/2022 | 27 | 06 | 2022 |   0 |\n",
       "\n"
      ],
      "text/plain": [
       "     cve_ent poblacion nombre   dias       dia mes año  infectados\n",
       "1    10004    37479    Cuencame 26/02/2020 26  02  2020 0         \n",
       "2    10005   695597    Durango  26/02/2020 26  02  2020 0         \n",
       "3    10012   164763    Lerdo    26/02/2020 26  02  2020 0         \n",
       "4    10004    37479    Cuencame 27/02/2020 27  02  2020 0         \n",
       "5    10005   695597    Durango  27/02/2020 27  02  2020 0         \n",
       "6    10012   164763    Lerdo    27/02/2020 27  02  2020 0         \n",
       "7    10004    37479    Cuencame 28/02/2020 28  02  2020 0         \n",
       "8    10005   695597    Durango  28/02/2020 28  02  2020 0         \n",
       "9    10012   164763    Lerdo    28/02/2020 28  02  2020 0         \n",
       "10   10004    37479    Cuencame 29/02/2020 29  02  2020 0         \n",
       "11   10005   695597    Durango  29/02/2020 29  02  2020 0         \n",
       "12   10012   164763    Lerdo    29/02/2020 29  02  2020 0         \n",
       "13   10004    37479    Cuencame 01/03/2020 01  03  2020 0         \n",
       "14   10005   695597    Durango  01/03/2020 01  03  2020 0         \n",
       "15   10012   164763    Lerdo    01/03/2020 01  03  2020 0         \n",
       "16   10004    37479    Cuencame 02/03/2020 02  03  2020 0         \n",
       "17   10005   695597    Durango  02/03/2020 02  03  2020 0         \n",
       "18   10012   164763    Lerdo    02/03/2020 02  03  2020 0         \n",
       "19   10004    37479    Cuencame 03/03/2020 03  03  2020 0         \n",
       "20   10005   695597    Durango  03/03/2020 03  03  2020 0         \n",
       "21   10012   164763    Lerdo    03/03/2020 03  03  2020 0         \n",
       "22   10004    37479    Cuencame 04/03/2020 04  03  2020 0         \n",
       "23   10005   695597    Durango  04/03/2020 04  03  2020 0         \n",
       "24   10012   164763    Lerdo    04/03/2020 04  03  2020 0         \n",
       "25   10004    37479    Cuencame 05/03/2020 05  03  2020 0         \n",
       "26   10005   695597    Durango  05/03/2020 05  03  2020 0         \n",
       "27   10012   164763    Lerdo    05/03/2020 05  03  2020 0         \n",
       "28   10004    37479    Cuencame 06/03/2020 06  03  2020 0         \n",
       "29   10005   695597    Durango  06/03/2020 06  03  2020 0         \n",
       "30   10012   164763    Lerdo    06/03/2020 06  03  2020 0         \n",
       "...  ...     ...       ...      ...        ... ... ...  ...       \n",
       "2530 10004    37479    Cuencame 18/06/2022 18  06  2022   0       \n",
       "2531 10005   695597    Durango  18/06/2022 18  06  2022  14       \n",
       "2532 10012   164763    Lerdo    18/06/2022 18  06  2022   0       \n",
       "2533 10004    37479    Cuencame 19/06/2022 19  06  2022   0       \n",
       "2534 10005   695597    Durango  19/06/2022 19  06  2022  18       \n",
       "2535 10012   164763    Lerdo    19/06/2022 19  06  2022   0       \n",
       "2536 10004    37479    Cuencame 20/06/2022 20  06  2022   0       \n",
       "2537 10005   695597    Durango  20/06/2022 20  06  2022 119       \n",
       "2538 10012   164763    Lerdo    20/06/2022 20  06  2022   7       \n",
       "2539 10004    37479    Cuencame 21/06/2022 21  06  2022   0       \n",
       "2540 10005   695597    Durango  21/06/2022 21  06  2022  93       \n",
       "2541 10012   164763    Lerdo    21/06/2022 21  06  2022   1       \n",
       "2542 10004    37479    Cuencame 22/06/2022 22  06  2022   0       \n",
       "2543 10005   695597    Durango  22/06/2022 22  06  2022 120       \n",
       "2544 10012   164763    Lerdo    22/06/2022 22  06  2022   3       \n",
       "2545 10004    37479    Cuencame 23/06/2022 23  06  2022   0       \n",
       "2546 10005   695597    Durango  23/06/2022 23  06  2022 130       \n",
       "2547 10012   164763    Lerdo    23/06/2022 23  06  2022   0       \n",
       "2548 10004    37479    Cuencame 24/06/2022 24  06  2022   0       \n",
       "2549 10005   695597    Durango  24/06/2022 24  06  2022  96       \n",
       "2550 10012   164763    Lerdo    24/06/2022 24  06  2022   7       \n",
       "2551 10004    37479    Cuencame 25/06/2022 25  06  2022   0       \n",
       "2552 10005   695597    Durango  25/06/2022 25  06  2022  22       \n",
       "2553 10012   164763    Lerdo    25/06/2022 25  06  2022   0       \n",
       "2554 10004    37479    Cuencame 26/06/2022 26  06  2022   0       \n",
       "2555 10005   695597    Durango  26/06/2022 26  06  2022  21       \n",
       "2556 10012   164763    Lerdo    26/06/2022 26  06  2022   0       \n",
       "2557 10004    37479    Cuencame 27/06/2022 27  06  2022   0       \n",
       "2558 10005   695597    Durango  27/06/2022 27  06  2022   0       \n",
       "2559 10012   164763    Lerdo    27/06/2022 27  06  2022   0       "
      ]
     },
     "metadata": {},
     "output_type": "display_data"
    },
    {
     "name": "stdout",
     "output_type": "stream",
     "text": [
      "'data.frame':\t2559 obs. of  10 variables:\n",
      " $ cve_ent    : int  10004 10005 10012 10004 10005 10012 10004 10005 10012 10004 ...\n",
      " $ poblacion  : int  37479 695597 164763 37479 695597 164763 37479 695597 164763 37479 ...\n",
      " $ nombre     : chr  \"Cuencame\" \"Durango\" \"Lerdo\" \"Cuencame\" ...\n",
      " $ dias       : chr  \"26/02/2020\" \"26/02/2020\" \"26/02/2020\" \"27/02/2020\" ...\n",
      " $ dia        : chr  \"26\" \"26\" \"26\" \"27\" ...\n",
      " $ mes        : chr  \"02\" \"02\" \"02\" \"02\" ...\n",
      " $ año        : chr  \"2020\" \"2020\" \"2020\" \"2020\" ...\n",
      " $ infectados : int  0 0 0 0 0 0 0 0 0 0 ...\n",
      " $ mest_txt   : Factor w/ 12 levels \"Ene\",\"Feb\",\"Mar\",..: 2 2 2 2 2 2 2 2 2 2 ...\n",
      " $ consecutivo: int  1 2 3 4 5 6 7 8 9 10 ...\n"
     ]
    },
    {
     "data": {
      "text/html": [
       "<table class=\"dataframe\">\n",
       "<caption>A data.frame: 6 × 10</caption>\n",
       "<thead>\n",
       "\t<tr><th></th><th scope=col>cve_ent</th><th scope=col>poblacion</th><th scope=col>nombre</th><th scope=col>dias</th><th scope=col>dia</th><th scope=col>mes</th><th scope=col>año</th><th scope=col>infectados</th><th scope=col>mest_txt</th><th scope=col>consecutivo</th></tr>\n",
       "\t<tr><th></th><th scope=col>&lt;int&gt;</th><th scope=col>&lt;int&gt;</th><th scope=col>&lt;chr&gt;</th><th scope=col>&lt;chr&gt;</th><th scope=col>&lt;chr&gt;</th><th scope=col>&lt;chr&gt;</th><th scope=col>&lt;chr&gt;</th><th scope=col>&lt;int&gt;</th><th scope=col>&lt;fct&gt;</th><th scope=col>&lt;int&gt;</th></tr>\n",
       "</thead>\n",
       "<tbody>\n",
       "\t<tr><th scope=row>1</th><td>10004</td><td> 37479</td><td>Cuencame</td><td>26/02/2020</td><td>26</td><td>02</td><td>2020</td><td>0</td><td>Feb</td><td>1</td></tr>\n",
       "\t<tr><th scope=row>2</th><td>10005</td><td>695597</td><td>Durango </td><td>26/02/2020</td><td>26</td><td>02</td><td>2020</td><td>0</td><td>Feb</td><td>2</td></tr>\n",
       "\t<tr><th scope=row>3</th><td>10012</td><td>164763</td><td>Lerdo   </td><td>26/02/2020</td><td>26</td><td>02</td><td>2020</td><td>0</td><td>Feb</td><td>3</td></tr>\n",
       "\t<tr><th scope=row>4</th><td>10004</td><td> 37479</td><td>Cuencame</td><td>27/02/2020</td><td>27</td><td>02</td><td>2020</td><td>0</td><td>Feb</td><td>4</td></tr>\n",
       "\t<tr><th scope=row>5</th><td>10005</td><td>695597</td><td>Durango </td><td>27/02/2020</td><td>27</td><td>02</td><td>2020</td><td>0</td><td>Feb</td><td>5</td></tr>\n",
       "\t<tr><th scope=row>6</th><td>10012</td><td>164763</td><td>Lerdo   </td><td>27/02/2020</td><td>27</td><td>02</td><td>2020</td><td>0</td><td>Feb</td><td>6</td></tr>\n",
       "</tbody>\n",
       "</table>\n"
      ],
      "text/latex": [
       "A data.frame: 6 × 10\n",
       "\\begin{tabular}{r|llllllllll}\n",
       "  & cve\\_ent & poblacion & nombre & dias & dia & mes & año & infectados & mest\\_txt & consecutivo\\\\\n",
       "  & <int> & <int> & <chr> & <chr> & <chr> & <chr> & <chr> & <int> & <fct> & <int>\\\\\n",
       "\\hline\n",
       "\t1 & 10004 &  37479 & Cuencame & 26/02/2020 & 26 & 02 & 2020 & 0 & Feb & 1\\\\\n",
       "\t2 & 10005 & 695597 & Durango  & 26/02/2020 & 26 & 02 & 2020 & 0 & Feb & 2\\\\\n",
       "\t3 & 10012 & 164763 & Lerdo    & 26/02/2020 & 26 & 02 & 2020 & 0 & Feb & 3\\\\\n",
       "\t4 & 10004 &  37479 & Cuencame & 27/02/2020 & 27 & 02 & 2020 & 0 & Feb & 4\\\\\n",
       "\t5 & 10005 & 695597 & Durango  & 27/02/2020 & 27 & 02 & 2020 & 0 & Feb & 5\\\\\n",
       "\t6 & 10012 & 164763 & Lerdo    & 27/02/2020 & 27 & 02 & 2020 & 0 & Feb & 6\\\\\n",
       "\\end{tabular}\n"
      ],
      "text/markdown": [
       "\n",
       "A data.frame: 6 × 10\n",
       "\n",
       "| <!--/--> | cve_ent &lt;int&gt; | poblacion &lt;int&gt; | nombre &lt;chr&gt; | dias &lt;chr&gt; | dia &lt;chr&gt; | mes &lt;chr&gt; | año &lt;chr&gt; | infectados &lt;int&gt; | mest_txt &lt;fct&gt; | consecutivo &lt;int&gt; |\n",
       "|---|---|---|---|---|---|---|---|---|---|---|\n",
       "| 1 | 10004 |  37479 | Cuencame | 26/02/2020 | 26 | 02 | 2020 | 0 | Feb | 1 |\n",
       "| 2 | 10005 | 695597 | Durango  | 26/02/2020 | 26 | 02 | 2020 | 0 | Feb | 2 |\n",
       "| 3 | 10012 | 164763 | Lerdo    | 26/02/2020 | 26 | 02 | 2020 | 0 | Feb | 3 |\n",
       "| 4 | 10004 |  37479 | Cuencame | 27/02/2020 | 27 | 02 | 2020 | 0 | Feb | 4 |\n",
       "| 5 | 10005 | 695597 | Durango  | 27/02/2020 | 27 | 02 | 2020 | 0 | Feb | 5 |\n",
       "| 6 | 10012 | 164763 | Lerdo    | 27/02/2020 | 27 | 02 | 2020 | 0 | Feb | 6 |\n",
       "\n"
      ],
      "text/plain": [
       "  cve_ent poblacion nombre   dias       dia mes año  infectados mest_txt\n",
       "1 10004    37479    Cuencame 26/02/2020 26  02  2020 0          Feb     \n",
       "2 10005   695597    Durango  26/02/2020 26  02  2020 0          Feb     \n",
       "3 10012   164763    Lerdo    26/02/2020 26  02  2020 0          Feb     \n",
       "4 10004    37479    Cuencame 27/02/2020 27  02  2020 0          Feb     \n",
       "5 10005   695597    Durango  27/02/2020 27  02  2020 0          Feb     \n",
       "6 10012   164763    Lerdo    27/02/2020 27  02  2020 0          Feb     \n",
       "  consecutivo\n",
       "1 1          \n",
       "2 2          \n",
       "3 3          \n",
       "4 4          \n",
       "5 5          \n",
       "6 6          "
      ]
     },
     "metadata": {},
     "output_type": "display_data"
    }
   ],
   "source": [
    "# código limpieza y manipulación \n",
    "casos_diario_list <- gather(casos_diarios_duango,key =\"dias\",value=\"infectados\",4:856)\n",
    "\n",
    "normalizarfecha <- function(fecha){\n",
    "return(str_replace_all(fecha,\"X\",\"\")  %>% str_replace_all(\"\\\\.\",\"/\"))\n",
    "}\n",
    "\n",
    "cod_Meses <- function(x) {\n",
    "\n",
    "labels_meses <- c(\n",
    "    \"Ene\",\"Feb\",\"Mar\",\"Abr\",\"May\",\"Jun\",\n",
    "    \"Jul\",\"Ago\",\"Sep\",\"Oct\",\"Nov\",\"Dic\")\n",
    "\n",
    "    return(factor(x,levels = (1:12),labels = labels_meses))\n",
    "    \n",
    "    }\n",
    "\n",
    "fecha = map(casos_diario_list[4],normalizarfecha)\n",
    "casos_diarios_fecha <- cbind(casos_diario_list[c(TRUE,TRUE,TRUE,FALSE,TRUE)],fecha)\n",
    "casos_diarios_fecha <- casos_diarios_fecha[c(1,2,3,5,4)]\n",
    "\n",
    "datos <- separate( data = casos_diarios_fecha,\n",
    "                   col =dias,\n",
    "                   into = c(\"dia\",\"mes\",\"año\"),\n",
    "                   sep = '/',\n",
    "                   remove = FALSE)\n",
    "datos\n",
    "\n",
    "#recordatorio\n",
    "datos <- datos %>% mutate(mest_txt = cod_Meses(as.integer(mes))) %>% mutate(consecutivo = 1:2559)\n",
    "str(datos)\n",
    "\n",
    "head(datos)\n"
   ]
  },
  {
   "cell_type": "code",
   "execution_count": null,
   "id": "61ca34d5-9b5e-46d6-8649-6b76290fb0ef",
   "metadata": {},
   "outputs": [],
   "source": [
    "## Modelo Machine Learning municipios"
   ]
  },
  {
   "cell_type": "code",
   "execution_count": 70,
   "id": "75cf9625-4891-4026-b474-d12c393fd700",
   "metadata": {},
   "outputs": [
    {
     "data": {
      "text/html": [
       "<table class=\"dataframe\">\n",
       "<caption>A matrix: 6 × 3 of type dbl</caption>\n",
       "<thead>\n",
       "\t<tr><th scope=col>consecutivo</th><th scope=col>poblacion</th><th scope=col>infectadosnew</th></tr>\n",
       "</thead>\n",
       "<tbody>\n",
       "\t<tr><td>0.000000000</td><td>0.05388034</td><td>0</td></tr>\n",
       "\t<tr><td>0.001076426</td><td>1.00000000</td><td>0</td></tr>\n",
       "\t<tr><td>0.002152853</td><td>0.23686560</td><td>0</td></tr>\n",
       "\t<tr><td>0.003229279</td><td>0.05388034</td><td>0</td></tr>\n",
       "\t<tr><td>0.004305705</td><td>1.00000000</td><td>0</td></tr>\n",
       "\t<tr><td>0.005382131</td><td>0.23686560</td><td>0</td></tr>\n",
       "</tbody>\n",
       "</table>\n"
      ],
      "text/latex": [
       "A matrix: 6 × 3 of type dbl\n",
       "\\begin{tabular}{lll}\n",
       " consecutivo & poblacion & infectadosnew\\\\\n",
       "\\hline\n",
       "\t 0.000000000 & 0.05388034 & 0\\\\\n",
       "\t 0.001076426 & 1.00000000 & 0\\\\\n",
       "\t 0.002152853 & 0.23686560 & 0\\\\\n",
       "\t 0.003229279 & 0.05388034 & 0\\\\\n",
       "\t 0.004305705 & 1.00000000 & 0\\\\\n",
       "\t 0.005382131 & 0.23686560 & 0\\\\\n",
       "\\end{tabular}\n"
      ],
      "text/markdown": [
       "\n",
       "A matrix: 6 × 3 of type dbl\n",
       "\n",
       "| consecutivo | poblacion | infectadosnew |\n",
       "|---|---|---|\n",
       "| 0.000000000 | 0.05388034 | 0 |\n",
       "| 0.001076426 | 1.00000000 | 0 |\n",
       "| 0.002152853 | 0.23686560 | 0 |\n",
       "| 0.003229279 | 0.05388034 | 0 |\n",
       "| 0.004305705 | 1.00000000 | 0 |\n",
       "| 0.005382131 | 0.23686560 | 0 |\n",
       "\n"
      ],
      "text/plain": [
       "     consecutivo poblacion  infectadosnew\n",
       "[1,] 0.000000000 0.05388034 0            \n",
       "[2,] 0.001076426 1.00000000 0            \n",
       "[3,] 0.002152853 0.23686560 0            \n",
       "[4,] 0.003229279 0.05388034 0            \n",
       "[5,] 0.004305705 1.00000000 0            \n",
       "[6,] 0.005382131 0.23686560 0            "
      ]
     },
     "metadata": {},
     "output_type": "display_data"
    }
   ],
   "source": [
    "# Tratamiento de datos\n",
    "##\n",
    "datosf <- datos %>% filter(año == \"2020\") %>%  mutate(consecutivo = 1:930)  %>%\n",
    "        mutate(infectadosnew = ((infectados/poblacion)*100000))\n",
    "\n",
    "#head(datosf)\n",
    "#str(datosf)\n",
    "\n",
    "#obtener variables parta normalizar datos\n",
    "min_d <- datosf  %>% select(consecutivo, poblacion, infectadosnew) %>% apply(2, min)\n",
    "max_d <- datosf  %>% select(consecutivo, poblacion, infectadosnew) %>% apply(2, max)\n",
    "min_d[2] <- 0\n",
    "#min_d\n",
    "#max_d\n",
    "\n",
    "min_inf <- min(datosf$infectadosnew)\n",
    "max_inf <- max(datosf$infectadosnew)\n",
    "\n",
    "#normalizacion de datos\n",
    "dnacionalnorm <- scale(select(datosf, consecutivo, poblacion, infectadosnew), center = min_d, scale = max_d - min_d)\n",
    "head(dnacionalnorm)"
   ]
  },
  {
   "cell_type": "code",
   "execution_count": 76,
   "id": "5f0af530-52ca-4886-8959-cefce9afc1cd",
   "metadata": {},
   "outputs": [
    {
     "data": {
      "text/plain": [
       "infectadosnew ~ consecutivo"
      ]
     },
     "metadata": {},
     "output_type": "display_data"
    }
   ],
   "source": [
    "f <- as.formula(infectadosnew ~ consecutivo)\n",
    "f"
   ]
  },
  {
   "cell_type": "code",
   "execution_count": 78,
   "id": "d1ddeaa3-f7d2-4122-ae71-b0022a77f82e",
   "metadata": {},
   "outputs": [
    {
     "data": {
      "image/png": "[encoded data removed]",
      "text/plain": [
       "plot without title"
      ]
     },
     "metadata": {
      "image/png": {
       "height": 420,
       "width": 420
      }
     },
     "output_type": "display_data"
    }
   ],
   "source": [
    "nnet <- neuralnet(f, data = dnacionalnorm,\n",
    "                  hidden = c(5,5),\n",
    "                  threshold = 0.05,\n",
    "                  algorithm = \"rprop+\",\n",
    "                  stepmax = 10000,\n",
    "                  #rep = 5,\n",
    "                  act.fct = \"tanh\") \n",
    "##\n",
    "plotnet(nnet, \n",
    "        circle_col = \"green\",\n",
    "        pos_col = \"blue\",\n",
    "        neg_col = \"grey\",\n",
    "        bord_col = \"lightblue\",)"
   ]
  },
  {
   "cell_type": "code",
   "execution_count": 85,
   "id": "0d10ca4e-d9b3-40ab-b0c0-5e82b95fc138",
   "metadata": {},
   "outputs": [
    {
     "data": {
      "text/html": [
       "930"
      ],
      "text/latex": [
       "930"
      ],
      "text/markdown": [
       "930"
      ],
      "text/plain": [
       "[1] 930"
      ]
     },
     "metadata": {},
     "output_type": "display_data"
    }
   ],
   "source": [
    "length(datosf$poblacion)"
   ]
  },
  {
   "cell_type": "code",
   "execution_count": 91,
   "id": "a25d8276-c434-4c4b-b5c2-3e898dc5f433",
   "metadata": {},
   "outputs": [
    {
     "data": {
      "text/html": [
       "3.78432306183594"
      ],
      "text/latex": [
       "3.78432306183594"
      ],
      "text/markdown": [
       "3.78432306183594"
      ],
      "text/plain": [
       "[1] 3.784323"
      ]
     },
     "metadata": {},
     "output_type": "display_data"
    },
    {
     "data": {
      "text/html": [
       "12.4706089102554"
      ],
      "text/latex": [
       "12.4706089102554"
      ],
      "text/markdown": [
       "12.4706089102554"
      ],
      "text/plain": [
       "[1] 12.47061"
      ]
     },
     "metadata": {},
     "output_type": "display_data"
    },
    {
     "data": {
      "image/png": "[encoded data removed]",
      "text/plain": [
       "plot without title"
      ]
     },
     "metadata": {
      "image/png": {
       "height": 420,
       "width": 420
      }
     },
     "output_type": "display_data"
    }
   ],
   "source": [
    "# Tratamiento de datos\n",
    "datosf <- datosf  %>% mutate(consecutivo = 1:360)  %>%\n",
    "        mutate(infectadosnew = ((infectados/poblacion)*100000)) %>% filter(consecutivo <= 360)\n",
    "\n",
    "dnacionalnorm <- scale(select(datosf, consecutivo, poblacion, infectadosnew), center = min_d, scale = max_d - min_d)\n",
    "\n",
    "#Prediccion\n",
    "eval_nn <- predict(nnet, dnacionalnorm[, 1:2])\n",
    "\n",
    "# Graficar los datos recuperadops\n",
    "\n",
    "resultado <- data.frame(\n",
    "                        nombre = \"predicho\",\n",
    "                        consecutivo = 1:360,\n",
    "                        infectados = eval_nn * ((max_inf - min_inf)+min_inf)*max_d[2]/100000)\n",
    "\n",
    "\n",
    "datosfs <- datosf %>% select(nombre, consecutivo, infectados)\n",
    "resultado <- rbind(resultado, datosfs)\n",
    "#resultado\n",
    "#names(resultado)\n",
    "\n",
    "resultado %>% ggplot(aes(x = consecutivo, y = infectados, group = nombre, color = nombre)) +\n",
    "geom_point( ) + geom_line() #+ geom_cartesian(xlim = c(300, 330))\n",
    "\n",
    "mean(abs(resultado$infectados[1:340] - datosfs$infectados[1:340]))\n",
    "mean(abs(resultado$infectados[340:360] - datosfs$infectados[340:360]))"
   ]
  },
  {
   "cell_type": "code",
   "execution_count": 95,
   "id": "fd018618-5060-4476-8aa5-65fcee110d4d",
   "metadata": {},
   "outputs": [
    {
     "data": {
      "text/html": [
       "<style>\n",
       ".list-inline {list-style: none; margin:0; padding: 0}\n",
       ".list-inline>li {display: inline-block}\n",
       ".list-inline>li:not(:last-child)::after {content: \"\\00b7\"; padding: 0 .5ex}\n",
       "</style>\n",
       "<ol class=list-inline><li>'cve_ent'</li><li>'poblacion'</li><li>'nombre'</li><li>'dias'</li><li>'dia'</li><li>'mes'</li><li>'año'</li><li>'infectados'</li><li>'mest_txt'</li><li>'consecutivo'</li><li>'infectadosnew'</li></ol>\n"
      ],
      "text/latex": [
       "\\begin{enumerate*}\n",
       "\\item 'cve\\_ent'\n",
       "\\item 'poblacion'\n",
       "\\item 'nombre'\n",
       "\\item 'dias'\n",
       "\\item 'dia'\n",
       "\\item 'mes'\n",
       "\\item 'año'\n",
       "\\item 'infectados'\n",
       "\\item 'mest\\_txt'\n",
       "\\item 'consecutivo'\n",
       "\\item 'infectadosnew'\n",
       "\\end{enumerate*}\n"
      ],
      "text/markdown": [
       "1. 'cve_ent'\n",
       "2. 'poblacion'\n",
       "3. 'nombre'\n",
       "4. 'dias'\n",
       "5. 'dia'\n",
       "6. 'mes'\n",
       "7. 'año'\n",
       "8. 'infectados'\n",
       "9. 'mest_txt'\n",
       "10. 'consecutivo'\n",
       "11. 'infectadosnew'\n",
       "\n",
       "\n"
      ],
      "text/plain": [
       " [1] \"cve_ent\"       \"poblacion\"     \"nombre\"        \"dias\"         \n",
       " [5] \"dia\"           \"mes\"           \"año\"           \"infectados\"   \n",
       " [9] \"mest_txt\"      \"consecutivo\"   \"infectadosnew\""
      ]
     },
     "metadata": {},
     "output_type": "display_data"
    }
   ],
   "source": [
    "names(datosf)\n"
   ]
  },
  {
   "cell_type": "code",
   "execution_count": 110,
   "id": "b9f667ce-a8ff-468f-8864-582a0fe52462",
   "metadata": {},
   "outputs": [
    {
     "data": {
      "text/plain": [
       "<ggproto object: Class TransitionReveal, Transition, gg>\n",
       "    adjust_nframes: function\n",
       "    expand_data: function\n",
       "    expand_layer: function\n",
       "    expand_panel: function\n",
       "    finish_data: function\n",
       "    get_all_row_vars: function\n",
       "    get_frame_data: function\n",
       "    get_frame_vars: function\n",
       "    get_row_vars: function\n",
       "    map_data: function\n",
       "    mapping: (.+)\n",
       "    params: list\n",
       "    remap_frames: function\n",
       "    require_late_tween: function\n",
       "    setup_params: function\n",
       "    setup_params2: function\n",
       "    static_layers: function\n",
       "    unmap_frames: function\n",
       "    var_names: along\n",
       "    super:  <ggproto object: Class TransitionReveal, Transition, gg>"
      ]
     },
     "metadata": {},
     "output_type": "display_data"
    },
    {
     "ename": "ERROR",
     "evalue": "Error in animate.default(p1, width = 1600, height = 800, render = gifski_renderer(loop = TRUE)): animation of gg objects not supported\n",
     "output_type": "error",
     "traceback": [
      "Error in animate.default(p1, width = 1600, height = 800, render = gifski_renderer(loop = TRUE)): animation of gg objects not supported\nTraceback:\n",
      "1. animate(p1, width = 1600, height = 800, render = gifski_renderer(loop = TRUE))",
      "2. animate.default(p1, width = 1600, height = 800, render = gifski_renderer(loop = TRUE))",
      "3. stop(\"animation of \", class(plot)[1], \" objects not supported\")"
     ]
    }
   ],
   "source": [
    "options(jupyter.plot_mimetypes = 'image/png')\n",
    "\n",
    "p1  <-    resultado %>%\n",
    "    ggplot(aes(x = consecutivo, y = infectados, group = nombre, color = nombre)) +\n",
    "    geom_point( ) + geom_line() #+ geom_cartesian(xlim = c(300, 330))\n",
    "       # stat_smooth(method =\"gam\",aes(x = dias, y = infectados)) #+\n",
    "       # coord_cartesian(xlim = c (as.Date(\"01/12/2020\",\"%d/%m/%Y\"),as.Date(\"01/02/2021\",\"%d/%m/%Y\")))+\n",
    "        transition_reveal(dias)\n",
    "\n",
    "\n",
    "mi_gif <- animate(p1,width = 1600,height = 800,render = gifski_renderer(loop = TRUE))\n",
    "anim_save(filename= \"animacion.gif\")\n"
   ]
  },
  {
   "cell_type": "code",
   "execution_count": null,
   "id": "c067a961-f89e-4eef-a989-b8c5d9dc70e5",
   "metadata": {},
   "outputs": [],
   "source": []
  }
 ],
 "metadata": {
  "kernelspec": {
   "display_name": "R",
   "language": "R",
   "name": "ir"
  },
  "language_info": {
   "codemirror_mode": "r",
   "file_extension": ".r",
   "mimetype": "text/x-r-source",
   "name": "R",
   "pygments_lexer": "r",
   "version": "4.1.1"
  }
 },
 "nbformat": 4,
 "nbformat_minor": 5
}
