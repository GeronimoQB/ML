{
 "cells": [
  {
   "cell_type": "markdown",
   "id": "462b9575-2c5c-4c7b-b215-3d80d1fe6218",
   "metadata": {},
   "source": [
    "# Regresión con RNAs Multicapa"
   ]
  },
  {
   "cell_type": "code",
   "execution_count": 1,
   "id": "397c9b22-2550-4670-8505-0f98379fc484",
   "metadata": {},
   "outputs": [
    {
     "name": "stderr",
     "output_type": "stream",
     "text": [
      "Warning message:\n",
      "\"package 'gifski' was built under R version 4.1.3\"\n",
      "Warning message:\n",
      "\"package 'tidyverse' was built under R version 4.1.3\"\n",
      "-- \u001b[1mAttaching packages\u001b[22m ------------------------------------------------------------------------------- tidyverse 1.3.1 --\n",
      "\n",
      "\u001b[32mv\u001b[39m \u001b[34mggplot2\u001b[39m 3.3.5     \u001b[32mv\u001b[39m \u001b[34mpurrr  \u001b[39m 0.3.4\n",
      "\u001b[32mv\u001b[39m \u001b[34mtibble \u001b[39m 3.1.5     \u001b[32mv\u001b[39m \u001b[34mdplyr  \u001b[39m 1.0.8\n",
      "\u001b[32mv\u001b[39m \u001b[34mtidyr  \u001b[39m 1.1.4     \u001b[32mv\u001b[39m \u001b[34mstringr\u001b[39m 1.4.0\n",
      "\u001b[32mv\u001b[39m \u001b[34mreadr  \u001b[39m 2.0.2     \u001b[32mv\u001b[39m \u001b[34mforcats\u001b[39m 0.5.1\n",
      "\n",
      "Warning message:\n",
      "\"package 'dplyr' was built under R version 4.1.2\"\n",
      "-- \u001b[1mConflicts\u001b[22m ---------------------------------------------------------------------------------- tidyverse_conflicts() --\n",
      "\u001b[31mx\u001b[39m \u001b[34mdplyr\u001b[39m::\u001b[32mfilter()\u001b[39m masks \u001b[34mstats\u001b[39m::filter()\n",
      "\u001b[31mx\u001b[39m \u001b[34mdplyr\u001b[39m::\u001b[32mlag()\u001b[39m    masks \u001b[34mstats\u001b[39m::lag()\n",
      "\n",
      "Warning message:\n",
      "\"package 'gganimate' was built under R version 4.1.3\"\n",
      "Warning message:\n",
      "\"package 'plotly' was built under R version 4.1.3\"\n",
      "\n",
      "Attaching package: 'plotly'\n",
      "\n",
      "\n",
      "The following object is masked from 'package:ggplot2':\n",
      "\n",
      "    last_plot\n",
      "\n",
      "\n",
      "The following object is masked from 'package:stats':\n",
      "\n",
      "    filter\n",
      "\n",
      "\n",
      "The following object is masked from 'package:graphics':\n",
      "\n",
      "    layout\n",
      "\n",
      "\n",
      "Warning message:\n",
      "\"package 'RColorBrewer' was built under R version 4.1.3\"\n",
      "Warning message:\n",
      "\"package 'wesanderson' was built under R version 4.1.3\"\n",
      "Warning message:\n",
      "\"package 'neuralnet' was built under R version 4.1.3\"\n",
      "\n",
      "Attaching package: 'neuralnet'\n",
      "\n",
      "\n",
      "The following object is masked from 'package:dplyr':\n",
      "\n",
      "    compute\n",
      "\n",
      "\n",
      "Warning message:\n",
      "\"package 'NeuralNetTools' was built under R version 4.1.3\"\n"
     ]
    }
   ],
   "source": [
    "#install.packages(\"tidyverse\")\n",
    "#install.packages(\"gganimate\")\n",
    "#install.packages(\"plotly\")\n",
    "#install.packages(\"gifski\")\n",
    "#install.packages(\"RColorBrewer\")\n",
    "#install.packages(\"wesanderson\")\n",
    "#install.packages(\"neuralnet\")\n",
    "#install.packages(\"NeuralNetTools\")\n",
    "\n",
    "library(gifski)\n",
    "library(tidyverse)\n",
    "library(gganimate)\n",
    "library(plotly)\n",
    "library(RColorBrewer)\n",
    "library(wesanderson)\n",
    "\n",
    "\n",
    "library(neuralnet)\n",
    "library(NeuralNetTools)\n",
    "library(ggplot2)"
   ]
  },
  {
   "cell_type": "code",
   "execution_count": 2,
   "id": "490742b2-c838-43fc-a792-bbe4229545af",
   "metadata": {},
   "outputs": [
    {
     "name": "stdout",
     "output_type": "stream",
     "text": [
      "'data.frame':\t28149 obs. of  10 variables:\n",
      " $ cve_ent    : int  1 2 3 4 7 8 9 5 6 10 ...\n",
      " $ poblacion  : int  1434635 3634868 804708 1000617 5730367 3801487 9018645 3218720 785153 1868996 ...\n",
      " $ nombre     : chr  \"AGUASCALIENTES\" \"BAJA CALIFORNIA\" \"BAJA CALIFORNIA SUR\" \"CAMPECHE\" ...\n",
      " $ dias       : chr  \"26/02/2020\" \"26/02/2020\" \"26/02/2020\" \"26/02/2020\" ...\n",
      " $ dia        : chr  \"26\" \"26\" \"26\" \"26\" ...\n",
      " $ mes        : chr  \"02\" \"02\" \"02\" \"02\" ...\n",
      " $ año        : chr  \"2020\" \"2020\" \"2020\" \"2020\" ...\n",
      " $ infectados : int  0 0 0 0 0 0 0 0 0 0 ...\n",
      " $ mest_txt   : Factor w/ 12 levels \"Ene\",\"Feb\",\"Mar\",..: 2 2 2 2 2 2 2 2 2 2 ...\n",
      " $ consecutivo: int  1 2 3 4 5 6 7 8 9 10 ...\n"
     ]
    },
    {
     "data": {
      "text/html": [
       "<table class=\"dataframe\">\n",
       "<caption>A data.frame: 6 × 10</caption>\n",
       "<thead>\n",
       "\t<tr><th></th><th scope=col>cve_ent</th><th scope=col>poblacion</th><th scope=col>nombre</th><th scope=col>dias</th><th scope=col>dia</th><th scope=col>mes</th><th scope=col>año</th><th scope=col>infectados</th><th scope=col>mest_txt</th><th scope=col>consecutivo</th></tr>\n",
       "\t<tr><th></th><th scope=col>&lt;int&gt;</th><th scope=col>&lt;int&gt;</th><th scope=col>&lt;chr&gt;</th><th scope=col>&lt;chr&gt;</th><th scope=col>&lt;chr&gt;</th><th scope=col>&lt;chr&gt;</th><th scope=col>&lt;chr&gt;</th><th scope=col>&lt;int&gt;</th><th scope=col>&lt;fct&gt;</th><th scope=col>&lt;int&gt;</th></tr>\n",
       "</thead>\n",
       "<tbody>\n",
       "\t<tr><th scope=row>1</th><td>1</td><td>1434635</td><td>AGUASCALIENTES     </td><td>26/02/2020</td><td>26</td><td>02</td><td>2020</td><td>0</td><td>Feb</td><td>1</td></tr>\n",
       "\t<tr><th scope=row>2</th><td>2</td><td>3634868</td><td>BAJA CALIFORNIA    </td><td>26/02/2020</td><td>26</td><td>02</td><td>2020</td><td>0</td><td>Feb</td><td>2</td></tr>\n",
       "\t<tr><th scope=row>3</th><td>3</td><td> 804708</td><td>BAJA CALIFORNIA SUR</td><td>26/02/2020</td><td>26</td><td>02</td><td>2020</td><td>0</td><td>Feb</td><td>3</td></tr>\n",
       "\t<tr><th scope=row>4</th><td>4</td><td>1000617</td><td>CAMPECHE           </td><td>26/02/2020</td><td>26</td><td>02</td><td>2020</td><td>0</td><td>Feb</td><td>4</td></tr>\n",
       "\t<tr><th scope=row>5</th><td>7</td><td>5730367</td><td>CHIAPAS            </td><td>26/02/2020</td><td>26</td><td>02</td><td>2020</td><td>0</td><td>Feb</td><td>5</td></tr>\n",
       "\t<tr><th scope=row>6</th><td>8</td><td>3801487</td><td>CHIHUAHUA          </td><td>26/02/2020</td><td>26</td><td>02</td><td>2020</td><td>0</td><td>Feb</td><td>6</td></tr>\n",
       "</tbody>\n",
       "</table>\n"
      ],
      "text/latex": [
       "A data.frame: 6 × 10\n",
       "\\begin{tabular}{r|llllllllll}\n",
       "  & cve\\_ent & poblacion & nombre & dias & dia & mes & año & infectados & mest\\_txt & consecutivo\\\\\n",
       "  & <int> & <int> & <chr> & <chr> & <chr> & <chr> & <chr> & <int> & <fct> & <int>\\\\\n",
       "\\hline\n",
       "\t1 & 1 & 1434635 & AGUASCALIENTES      & 26/02/2020 & 26 & 02 & 2020 & 0 & Feb & 1\\\\\n",
       "\t2 & 2 & 3634868 & BAJA CALIFORNIA     & 26/02/2020 & 26 & 02 & 2020 & 0 & Feb & 2\\\\\n",
       "\t3 & 3 &  804708 & BAJA CALIFORNIA SUR & 26/02/2020 & 26 & 02 & 2020 & 0 & Feb & 3\\\\\n",
       "\t4 & 4 & 1000617 & CAMPECHE            & 26/02/2020 & 26 & 02 & 2020 & 0 & Feb & 4\\\\\n",
       "\t5 & 7 & 5730367 & CHIAPAS             & 26/02/2020 & 26 & 02 & 2020 & 0 & Feb & 5\\\\\n",
       "\t6 & 8 & 3801487 & CHIHUAHUA           & 26/02/2020 & 26 & 02 & 2020 & 0 & Feb & 6\\\\\n",
       "\\end{tabular}\n"
      ],
      "text/markdown": [
       "\n",
       "A data.frame: 6 × 10\n",
       "\n",
       "| <!--/--> | cve_ent &lt;int&gt; | poblacion &lt;int&gt; | nombre &lt;chr&gt; | dias &lt;chr&gt; | dia &lt;chr&gt; | mes &lt;chr&gt; | año &lt;chr&gt; | infectados &lt;int&gt; | mest_txt &lt;fct&gt; | consecutivo &lt;int&gt; |\n",
       "|---|---|---|---|---|---|---|---|---|---|---|\n",
       "| 1 | 1 | 1434635 | AGUASCALIENTES      | 26/02/2020 | 26 | 02 | 2020 | 0 | Feb | 1 |\n",
       "| 2 | 2 | 3634868 | BAJA CALIFORNIA     | 26/02/2020 | 26 | 02 | 2020 | 0 | Feb | 2 |\n",
       "| 3 | 3 |  804708 | BAJA CALIFORNIA SUR | 26/02/2020 | 26 | 02 | 2020 | 0 | Feb | 3 |\n",
       "| 4 | 4 | 1000617 | CAMPECHE            | 26/02/2020 | 26 | 02 | 2020 | 0 | Feb | 4 |\n",
       "| 5 | 7 | 5730367 | CHIAPAS             | 26/02/2020 | 26 | 02 | 2020 | 0 | Feb | 5 |\n",
       "| 6 | 8 | 3801487 | CHIHUAHUA           | 26/02/2020 | 26 | 02 | 2020 | 0 | Feb | 6 |\n",
       "\n"
      ],
      "text/plain": [
       "  cve_ent poblacion nombre              dias       dia mes año  infectados\n",
       "1 1       1434635   AGUASCALIENTES      26/02/2020 26  02  2020 0         \n",
       "2 2       3634868   BAJA CALIFORNIA     26/02/2020 26  02  2020 0         \n",
       "3 3        804708   BAJA CALIFORNIA SUR 26/02/2020 26  02  2020 0         \n",
       "4 4       1000617   CAMPECHE            26/02/2020 26  02  2020 0         \n",
       "5 7       5730367   CHIAPAS             26/02/2020 26  02  2020 0         \n",
       "6 8       3801487   CHIHUAHUA           26/02/2020 26  02  2020 0         \n",
       "  mest_txt consecutivo\n",
       "1 Feb      1          \n",
       "2 Feb      2          \n",
       "3 Feb      3          \n",
       "4 Feb      4          \n",
       "5 Feb      5          \n",
       "6 Feb      6          "
      ]
     },
     "metadata": {},
     "output_type": "display_data"
    }
   ],
   "source": [
    "# código limpieza y manipulación \n",
    "casos_diarios <-  read.csv(file = \"Casos_Diarios_Estado_Nacional.csv\")\n",
    "casos_diario_list <- gather(casos_diarios,key =\"dias\",value=\"infectados\",4:856)\n",
    "\n",
    "normalizarfecha <- function(fecha){\n",
    "return(str_replace_all(fecha,\"X\",\"\")  %>% str_replace_all(\"\\\\.\",\"/\"))\n",
    "}\n",
    "\n",
    "cod_Meses <- function(x) {\n",
    "\n",
    "labels_meses <- c(\n",
    "    \"Ene\",\"Feb\",\"Mar\",\"Abr\",\"May\",\"Jun\",\n",
    "    \"Jul\",\"Ago\",\"Sep\",\"Oct\",\"Nov\",\"Dic\")\n",
    "\n",
    "    return(factor(x,levels = (1:12),labels = labels_meses))\n",
    "    \n",
    "    }\n",
    "\n",
    "fecha = map(casos_diario_list[4],normalizarfecha)\n",
    "casos_diarios_fecha <- cbind(casos_diario_list[c(TRUE,TRUE,TRUE,FALSE,TRUE)],fecha)\n",
    "casos_diarios_fecha <- casos_diarios_fecha[c(1,2,3,5,4)]\n",
    "\n",
    "datos <- separate( data = casos_diarios_fecha,\n",
    "                   col =dias,\n",
    "                   into = c(\"dia\",\"mes\",\"año\"),\n",
    "                   sep = '/',\n",
    "                   remove = FALSE)\n",
    "#recordatorio\n",
    "datos <- datos %>% mutate(mest_txt = cod_Meses(as.integer(mes))) %>% mutate(consecutivo = 1:28149)\n",
    "str(datos)\n",
    "\n",
    "head(datos)\n",
    "\n"
   ]
  },
  {
   "cell_type": "markdown",
   "id": "9ab247e4-22a1-40aa-9906-5524fe015f3c",
   "metadata": {},
   "source": [
    "## Tratamiento adicional de los datos"
   ]
  },
  {
   "cell_type": "code",
   "execution_count": 3,
   "id": "16eca12b-a2a6-4122-a4ca-5c359db706ca",
   "metadata": {},
   "outputs": [
    {
     "data": {
      "text/html": [
       "<table class=\"dataframe\">\n",
       "<caption>A matrix: 6 × 3 of type dbl</caption>\n",
       "<thead>\n",
       "\t<tr><th scope=col>consecutivo</th><th scope=col>poblacion</th><th scope=col>infectadosnew</th></tr>\n",
       "</thead>\n",
       "<tbody>\n",
       "\t<tr><td>0.000000000</td><td>1</td><td>0.0000000000</td></tr>\n",
       "\t<tr><td>0.003236246</td><td>1</td><td>0.0002465483</td></tr>\n",
       "\t<tr><td>0.006472492</td><td>1</td><td>0.0001232742</td></tr>\n",
       "\t<tr><td>0.009708738</td><td>1</td><td>0.0001232742</td></tr>\n",
       "\t<tr><td>0.012944984</td><td>1</td><td>0.0001232742</td></tr>\n",
       "\t<tr><td>0.016181230</td><td>1</td><td>0.0003081854</td></tr>\n",
       "</tbody>\n",
       "</table>\n"
      ],
      "text/latex": [
       "A matrix: 6 × 3 of type dbl\n",
       "\\begin{tabular}{lll}\n",
       " consecutivo & poblacion & infectadosnew\\\\\n",
       "\\hline\n",
       "\t 0.000000000 & 1 & 0.0000000000\\\\\n",
       "\t 0.003236246 & 1 & 0.0002465483\\\\\n",
       "\t 0.006472492 & 1 & 0.0001232742\\\\\n",
       "\t 0.009708738 & 1 & 0.0001232742\\\\\n",
       "\t 0.012944984 & 1 & 0.0001232742\\\\\n",
       "\t 0.016181230 & 1 & 0.0003081854\\\\\n",
       "\\end{tabular}\n"
      ],
      "text/markdown": [
       "\n",
       "A matrix: 6 × 3 of type dbl\n",
       "\n",
       "| consecutivo | poblacion | infectadosnew |\n",
       "|---|---|---|\n",
       "| 0.000000000 | 1 | 0.0000000000 |\n",
       "| 0.003236246 | 1 | 0.0002465483 |\n",
       "| 0.006472492 | 1 | 0.0001232742 |\n",
       "| 0.009708738 | 1 | 0.0001232742 |\n",
       "| 0.012944984 | 1 | 0.0001232742 |\n",
       "| 0.016181230 | 1 | 0.0003081854 |\n",
       "\n"
      ],
      "text/plain": [
       "     consecutivo poblacion infectadosnew\n",
       "[1,] 0.000000000 1         0.0000000000 \n",
       "[2,] 0.003236246 1         0.0002465483 \n",
       "[3,] 0.006472492 1         0.0001232742 \n",
       "[4,] 0.009708738 1         0.0001232742 \n",
       "[5,] 0.012944984 1         0.0001232742 \n",
       "[6,] 0.016181230 1         0.0003081854 "
      ]
     },
     "metadata": {},
     "output_type": "display_data"
    }
   ],
   "source": [
    "# Tratamiento de datos\n",
    "##\n",
    "datosf <- datos %>% filter(año == \"2020\") %>% filter(nombre == \"Nacional\")  %>% mutate(consecutivo = 1:310)  %>%\n",
    "        mutate(infectadosnew = ((infectados/poblacion)*100000))\n",
    "\n",
    "#head(datosf)\n",
    "#str(datosf)\n",
    "\n",
    "#obtener variables parta normalizar datos\n",
    "min_d <- datosf  %>% select(consecutivo, poblacion, infectadosnew) %>% apply(2, min)\n",
    "max_d <- datosf  %>% select(consecutivo, poblacion, infectadosnew) %>% apply(2, max)\n",
    "min_d[2] <- 0\n",
    "#min_d\n",
    "#max_d\n",
    "\n",
    "min_inf <- min(datosf$infectadosnew)\n",
    "max_inf <- max(datosf$infectadosnew)\n",
    "\n",
    "#normalizacion de datos\n",
    "dnacionalnorm <- scale(select(datosf, consecutivo, poblacion, infectadosnew), center = min_d, scale = max_d - min_d)\n",
    "head(dnacionalnorm)"
   ]
  },
  {
   "cell_type": "markdown",
   "id": "6ea92ba2-2aa3-4d21-9e67-c61ce820b6b6",
   "metadata": {},
   "source": [
    "## Modelo Machine Learning"
   ]
  },
  {
   "cell_type": "code",
   "execution_count": 4,
   "id": "9315c9ec-eb3e-4a14-a468-19f5bd085050",
   "metadata": {},
   "outputs": [
    {
     "data": {
      "text/plain": [
       "infectadosnew ~ consecutivo"
      ]
     },
     "metadata": {},
     "output_type": "display_data"
    }
   ],
   "source": [
    "f <- as.formula(infectadosnew ~ consecutivo)\n",
    "f"
   ]
  },
  {
   "cell_type": "code",
   "execution_count": 6,
   "id": "1b9a5115-1a5f-4564-bcc1-ecc2b1a04385",
   "metadata": {},
   "outputs": [
    {
     "data": {
      "image/png": "[encoded data removed]",
      "text/plain": [
       "plot without title"
      ]
     },
     "metadata": {
      "image/png": {
       "height": 420,
       "width": 420
      }
     },
     "output_type": "display_data"
    }
   ],
   "source": [
    "nnet <- neuralnet(f, data = dnacionalnorm,\n",
    "                  hidden = c(20,20),\n",
    "                  threshold = 0.05,\n",
    "                  algorithm = \"rprop+\",\n",
    "                  stepmax = 10000,\n",
    "                  #rep = 5,\n",
    "                  act.fct = \"tanh\") \n",
    "##\n",
    "plotnet(nnet, circle_col = \"green\",\n",
    "       neg_col = \"blue\")"
   ]
  },
  {
   "cell_type": "markdown",
   "id": "5772292c-fdee-4c1b-b4c8-fca8540585fc",
   "metadata": {},
   "source": [
    "# Visualización de datos"
   ]
  },
  {
   "cell_type": "code",
   "execution_count": 7,
   "id": "22d3ea0a-3769-4505-a27d-d2f4b16b0089",
   "metadata": {},
   "outputs": [
    {
     "data": {
      "text/html": [
       "<table class=\"dataframe\">\n",
       "<caption>A matrix: 310 × 1 of type dbl</caption>\n",
       "<tbody>\n",
       "\t<tr><td>-0.0154157194</td></tr>\n",
       "\t<tr><td>-0.0144311607</td></tr>\n",
       "\t<tr><td>-0.0134348087</td></tr>\n",
       "\t<tr><td>-0.0124258482</td></tr>\n",
       "\t<tr><td>-0.0114035074</td></tr>\n",
       "\t<tr><td>-0.0103670531</td></tr>\n",
       "\t<tr><td>-0.0093157865</td></tr>\n",
       "\t<tr><td>-0.0082490383</td></tr>\n",
       "\t<tr><td>-0.0071661642</td></tr>\n",
       "\t<tr><td>-0.0060665397</td></tr>\n",
       "\t<tr><td>-0.0049495557</td></tr>\n",
       "\t<tr><td>-0.0038146136</td></tr>\n",
       "\t<tr><td>-0.0026611203</td></tr>\n",
       "\t<tr><td>-0.0014884835</td></tr>\n",
       "\t<tr><td>-0.0002961072</td></tr>\n",
       "\t<tr><td> 0.0009166132</td></tr>\n",
       "\t<tr><td> 0.0021502952</td></tr>\n",
       "\t<tr><td> 0.0034055738</td></tr>\n",
       "\t<tr><td> 0.0046831052</td></tr>\n",
       "\t<tr><td> 0.0059835714</td></tr>\n",
       "\t<tr><td> 0.0073076835</td></tr>\n",
       "\t<tr><td> 0.0086561855</td></tr>\n",
       "\t<tr><td> 0.0100298575</td></tr>\n",
       "\t<tr><td> 0.0114295188</td></tr>\n",
       "\t<tr><td> 0.0128560306</td></tr>\n",
       "\t<tr><td> 0.0143102982</td></tr>\n",
       "\t<tr><td> 0.0157932733</td></tr>\n",
       "\t<tr><td> 0.0173059557</td></tr>\n",
       "\t<tr><td> 0.0188493944</td></tr>\n",
       "\t<tr><td> 0.0204246890</td></tr>\n",
       "\t<tr><td>...</td></tr>\n",
       "\t<tr><td>0.5463488</td></tr>\n",
       "\t<tr><td>0.5526843</td></tr>\n",
       "\t<tr><td>0.5590536</td></tr>\n",
       "\t<tr><td>0.5654539</td></tr>\n",
       "\t<tr><td>0.5718820</td></tr>\n",
       "\t<tr><td>0.5783353</td></tr>\n",
       "\t<tr><td>0.5848108</td></tr>\n",
       "\t<tr><td>0.5913057</td></tr>\n",
       "\t<tr><td>0.5978175</td></tr>\n",
       "\t<tr><td>0.6043434</td></tr>\n",
       "\t<tr><td>0.6108809</td></tr>\n",
       "\t<tr><td>0.6174278</td></tr>\n",
       "\t<tr><td>0.6239816</td></tr>\n",
       "\t<tr><td>0.6305401</td></tr>\n",
       "\t<tr><td>0.6371014</td></tr>\n",
       "\t<tr><td>0.6436634</td></tr>\n",
       "\t<tr><td>0.6502245</td></tr>\n",
       "\t<tr><td>0.6567828</td></tr>\n",
       "\t<tr><td>0.6633369</td></tr>\n",
       "\t<tr><td>0.6698854</td></tr>\n",
       "\t<tr><td>0.6764271</td></tr>\n",
       "\t<tr><td>0.6829608</td></tr>\n",
       "\t<tr><td>0.6894856</td></tr>\n",
       "\t<tr><td>0.6960007</td></tr>\n",
       "\t<tr><td>0.7025053</td></tr>\n",
       "\t<tr><td>0.7089991</td></tr>\n",
       "\t<tr><td>0.7154814</td></tr>\n",
       "\t<tr><td>0.7219522</td></tr>\n",
       "\t<tr><td>0.7284111</td></tr>\n",
       "\t<tr><td>0.7348583</td></tr>\n",
       "</tbody>\n",
       "</table>\n"
      ],
      "text/latex": [
       "A matrix: 310 × 1 of type dbl\n",
       "\\begin{tabular}{l}\n",
       "\t -0.0154157194\\\\\n",
       "\t -0.0144311607\\\\\n",
       "\t -0.0134348087\\\\\n",
       "\t -0.0124258482\\\\\n",
       "\t -0.0114035074\\\\\n",
       "\t -0.0103670531\\\\\n",
       "\t -0.0093157865\\\\\n",
       "\t -0.0082490383\\\\\n",
       "\t -0.0071661642\\\\\n",
       "\t -0.0060665397\\\\\n",
       "\t -0.0049495557\\\\\n",
       "\t -0.0038146136\\\\\n",
       "\t -0.0026611203\\\\\n",
       "\t -0.0014884835\\\\\n",
       "\t -0.0002961072\\\\\n",
       "\t  0.0009166132\\\\\n",
       "\t  0.0021502952\\\\\n",
       "\t  0.0034055738\\\\\n",
       "\t  0.0046831052\\\\\n",
       "\t  0.0059835714\\\\\n",
       "\t  0.0073076835\\\\\n",
       "\t  0.0086561855\\\\\n",
       "\t  0.0100298575\\\\\n",
       "\t  0.0114295188\\\\\n",
       "\t  0.0128560306\\\\\n",
       "\t  0.0143102982\\\\\n",
       "\t  0.0157932733\\\\\n",
       "\t  0.0173059557\\\\\n",
       "\t  0.0188493944\\\\\n",
       "\t  0.0204246890\\\\\n",
       "\t ...\\\\\n",
       "\t 0.5463488\\\\\n",
       "\t 0.5526843\\\\\n",
       "\t 0.5590536\\\\\n",
       "\t 0.5654539\\\\\n",
       "\t 0.5718820\\\\\n",
       "\t 0.5783353\\\\\n",
       "\t 0.5848108\\\\\n",
       "\t 0.5913057\\\\\n",
       "\t 0.5978175\\\\\n",
       "\t 0.6043434\\\\\n",
       "\t 0.6108809\\\\\n",
       "\t 0.6174278\\\\\n",
       "\t 0.6239816\\\\\n",
       "\t 0.6305401\\\\\n",
       "\t 0.6371014\\\\\n",
       "\t 0.6436634\\\\\n",
       "\t 0.6502245\\\\\n",
       "\t 0.6567828\\\\\n",
       "\t 0.6633369\\\\\n",
       "\t 0.6698854\\\\\n",
       "\t 0.6764271\\\\\n",
       "\t 0.6829608\\\\\n",
       "\t 0.6894856\\\\\n",
       "\t 0.6960007\\\\\n",
       "\t 0.7025053\\\\\n",
       "\t 0.7089991\\\\\n",
       "\t 0.7154814\\\\\n",
       "\t 0.7219522\\\\\n",
       "\t 0.7284111\\\\\n",
       "\t 0.7348583\\\\\n",
       "\\end{tabular}\n"
      ],
      "text/markdown": [
       "\n",
       "A matrix: 310 × 1 of type dbl\n",
       "\n",
       "| -0.0154157194 |\n",
       "| -0.0144311607 |\n",
       "| -0.0134348087 |\n",
       "| -0.0124258482 |\n",
       "| -0.0114035074 |\n",
       "| -0.0103670531 |\n",
       "| -0.0093157865 |\n",
       "| -0.0082490383 |\n",
       "| -0.0071661642 |\n",
       "| -0.0060665397 |\n",
       "| -0.0049495557 |\n",
       "| -0.0038146136 |\n",
       "| -0.0026611203 |\n",
       "| -0.0014884835 |\n",
       "| -0.0002961072 |\n",
       "|  0.0009166132 |\n",
       "|  0.0021502952 |\n",
       "|  0.0034055738 |\n",
       "|  0.0046831052 |\n",
       "|  0.0059835714 |\n",
       "|  0.0073076835 |\n",
       "|  0.0086561855 |\n",
       "|  0.0100298575 |\n",
       "|  0.0114295188 |\n",
       "|  0.0128560306 |\n",
       "|  0.0143102982 |\n",
       "|  0.0157932733 |\n",
       "|  0.0173059557 |\n",
       "|  0.0188493944 |\n",
       "|  0.0204246890 |\n",
       "| ... |\n",
       "| 0.5463488 |\n",
       "| 0.5526843 |\n",
       "| 0.5590536 |\n",
       "| 0.5654539 |\n",
       "| 0.5718820 |\n",
       "| 0.5783353 |\n",
       "| 0.5848108 |\n",
       "| 0.5913057 |\n",
       "| 0.5978175 |\n",
       "| 0.6043434 |\n",
       "| 0.6108809 |\n",
       "| 0.6174278 |\n",
       "| 0.6239816 |\n",
       "| 0.6305401 |\n",
       "| 0.6371014 |\n",
       "| 0.6436634 |\n",
       "| 0.6502245 |\n",
       "| 0.6567828 |\n",
       "| 0.6633369 |\n",
       "| 0.6698854 |\n",
       "| 0.6764271 |\n",
       "| 0.6829608 |\n",
       "| 0.6894856 |\n",
       "| 0.6960007 |\n",
       "| 0.7025053 |\n",
       "| 0.7089991 |\n",
       "| 0.7154814 |\n",
       "| 0.7219522 |\n",
       "| 0.7284111 |\n",
       "| 0.7348583 |\n",
       "\n"
      ],
      "text/plain": [
       "      [,1]         \n",
       " [1,] -0.0154157194\n",
       " [2,] -0.0144311607\n",
       " [3,] -0.0134348087\n",
       " [4,] -0.0124258482\n",
       " [5,] -0.0114035074\n",
       " [6,] -0.0103670531\n",
       " [7,] -0.0093157865\n",
       " [8,] -0.0082490383\n",
       " [9,] -0.0071661642\n",
       "[10,] -0.0060665397\n",
       "[11,] -0.0049495557\n",
       "[12,] -0.0038146136\n",
       "[13,] -0.0026611203\n",
       "[14,] -0.0014884835\n",
       "[15,] -0.0002961072\n",
       "[16,]  0.0009166132\n",
       "[17,]  0.0021502952\n",
       "[18,]  0.0034055738\n",
       "[19,]  0.0046831052\n",
       "[20,]  0.0059835714\n",
       "[21,]  0.0073076835\n",
       "[22,]  0.0086561855\n",
       "[23,]  0.0100298575\n",
       "[24,]  0.0114295188\n",
       "[25,]  0.0128560306\n",
       "[26,]  0.0143102982\n",
       "[27,]  0.0157932733\n",
       "[28,]  0.0173059557\n",
       "[29,]  0.0188493944\n",
       "[30,]  0.0204246890\n",
       "[31,] ...          \n",
       "[32,] 0.5463488    \n",
       "[33,] 0.5526843    \n",
       "[34,] 0.5590536    \n",
       "[35,] 0.5654539    \n",
       "[36,] 0.5718820    \n",
       "[37,] 0.5783353    \n",
       "[38,] 0.5848108    \n",
       "[39,] 0.5913057    \n",
       "[40,] 0.5978175    \n",
       "[41,] 0.6043434    \n",
       "[42,] 0.6108809    \n",
       "[43,] 0.6174278    \n",
       "[44,] 0.6239816    \n",
       "[45,] 0.6305401    \n",
       "[46,] 0.6371014    \n",
       "[47,] 0.6436634    \n",
       "[48,] 0.6502245    \n",
       "[49,] 0.6567828    \n",
       "[50,] 0.6633369    \n",
       "[51,] 0.6698854    \n",
       "[52,] 0.6764271    \n",
       "[53,] 0.6829608    \n",
       "[54,] 0.6894856    \n",
       "[55,] 0.6960007    \n",
       "[56,] 0.7025053    \n",
       "[57,] 0.7089991    \n",
       "[58,] 0.7154814    \n",
       "[59,] 0.7219522    \n",
       "[60,] 0.7284111    \n",
       "[61,] 0.7348583    "
      ]
     },
     "metadata": {},
     "output_type": "display_data"
    },
    {
     "name": "stdout",
     "output_type": "stream",
     "text": [
      " num [1:310, 1] -0.0154 -0.0144 -0.0134 -0.0124 -0.0114 ...\n"
     ]
    }
   ],
   "source": [
    "eval_nn <- predict(nnet, dnacionalnorm[, 1:2])\n",
    "eval_nn\n",
    "str(eval_nn)"
   ]
  },
  {
   "cell_type": "markdown",
   "id": "f97ec99d-c5e1-493a-9e45-47ac3d66dc2a",
   "metadata": {},
   "source": [
    "## Predecir entidades"
   ]
  },
  {
   "cell_type": "code",
   "execution_count": 8,
   "id": "0d10884b-94d8-4589-a633-900ad619ef09",
   "metadata": {},
   "outputs": [
    {
     "data": {
      "text/html": [
       "<style>\n",
       ".list-inline {list-style: none; margin:0; padding: 0}\n",
       ".list-inline>li {display: inline-block}\n",
       ".list-inline>li:not(:last-child)::after {content: \"\\00b7\"; padding: 0 .5ex}\n",
       "</style>\n",
       "<ol class=list-inline><li>'nombre'</li><li>'consecutivo'</li><li>'infectados'</li></ol>\n"
      ],
      "text/latex": [
       "\\begin{enumerate*}\n",
       "\\item 'nombre'\n",
       "\\item 'consecutivo'\n",
       "\\item 'infectados'\n",
       "\\end{enumerate*}\n"
      ],
      "text/markdown": [
       "1. 'nombre'\n",
       "2. 'consecutivo'\n",
       "3. 'infectados'\n",
       "\n",
       "\n"
      ],
      "text/plain": [
       "[1] \"nombre\"      \"consecutivo\" \"infectados\" "
      ]
     },
     "metadata": {},
     "output_type": "display_data"
    },
    {
     "data": {
      "image/png": "[encoded data removed]",
      "text/plain": [
       "plot without title"
      ]
     },
     "metadata": {
      "image/png": {
       "height": 420,
       "width": 420
      }
     },
     "output_type": "display_data"
    }
   ],
   "source": [
    "# Graficar los datos recuperadops\n",
    "\n",
    "resultado <- data.frame(\n",
    "                        nombre = \"predicho\",\n",
    "                        consecutivo = 1:310,\n",
    "                        infectados = eval_nn * ((max_inf - min_inf)+min_inf)*max_d[2]/100000)\n",
    "\n",
    "\n",
    "datosfs <- datosf %>% select(nombre, consecutivo, infectados)\n",
    "resultado <- rbind(resultado, datosfs)\n",
    "#resultado\n",
    "names(resultado)\n",
    "\n",
    "resultado %>% ggplot(aes(x = consecutivo, y = infectados, group = nombre, color = nombre)) +\n",
    "geom_point( ) + geom_line()\n",
    "\n",
    "\n"
   ]
  },
  {
   "cell_type": "code",
   "execution_count": 9,
   "id": "b7ec1fd0-e41d-400c-8d37-16864ff281a8",
   "metadata": {},
   "outputs": [
    {
     "data": {
      "text/html": [
       "<strong>poblacion:</strong> '9018645'"
      ],
      "text/latex": [
       "\\textbf{poblacion:} '9018645'"
      ],
      "text/markdown": [
       "**poblacion:** '9018645'"
      ],
      "text/plain": [
       "poblacion \n",
       "\"9018645\" "
      ]
     },
     "metadata": {},
     "output_type": "display_data"
    },
    {
     "data": {
      "text/html": [
       "<style>\n",
       ".list-inline {list-style: none; margin:0; padding: 0}\n",
       ".list-inline>li {display: inline-block}\n",
       ".list-inline>li:not(:last-child)::after {content: \"\\00b7\"; padding: 0 .5ex}\n",
       "</style>\n",
       "<ol class=list-inline><li>'nombre'</li><li>'consecutivo'</li><li>'infectados'</li></ol>\n"
      ],
      "text/latex": [
       "\\begin{enumerate*}\n",
       "\\item 'nombre'\n",
       "\\item 'consecutivo'\n",
       "\\item 'infectados'\n",
       "\\end{enumerate*}\n"
      ],
      "text/markdown": [
       "1. 'nombre'\n",
       "2. 'consecutivo'\n",
       "3. 'infectados'\n",
       "\n",
       "\n"
      ],
      "text/plain": [
       "[1] \"nombre\"      \"consecutivo\" \"infectados\" "
      ]
     },
     "metadata": {},
     "output_type": "display_data"
    },
    {
     "data": {
      "image/png": "[encoded data removed]",
      "text/plain": [
       "plot without title"
      ]
     },
     "metadata": {
      "image/png": {
       "height": 420,
       "width": 420
      }
     },
     "output_type": "display_data"
    }
   ],
   "source": [
    "datosdf <- datos %>% filter(año == \"2020\") %>% filter(nombre == \"DISTRITO FEDERAL\")  %>% mutate(consecutivo = 1:310)  %>%\n",
    "        mutate(infectadosnew = ((infectados/poblacion)*100000))\n",
    "\n",
    "ddfnorm <- scale(select(datosdf, consecutivo, poblacion, infectadosnew), center = min_d, scale = max_d - min_d)\n",
    "#head(ddfnorm)\n",
    "\n",
    "#Prediccion\n",
    "eval_nn <- predict(nnet, ddfnorm[, 1:2])\n",
    "\n",
    "max_df <- apply(datosdf, 2, max)\n",
    "max_df[2]\n",
    "###\n",
    "# Graficar los datos recuperadops\n",
    "\n",
    "resultado <- data.frame(\n",
    "                        nombre = \"predicho\",\n",
    "                        consecutivo = 1:310,\n",
    "                        infectados = eval_nn * ((max_inf - min_inf)+min_inf)*as.integer(max_df[2])/100000)\n",
    "\n",
    "\n",
    "datosfs <- datosdf %>% select(nombre, consecutivo, infectados)\n",
    "resultado <- rbind(resultado, datosfs)\n",
    "#resultado\n",
    "names(resultado)\n",
    "\n",
    "resultado %>% ggplot(aes(x = consecutivo, y = infectados, group = nombre, color = nombre)) +\n",
    "    geom_point( ) + \n",
    "    geom_line()\n"
   ]
  },
  {
   "cell_type": "code",
   "execution_count": 10,
   "id": "83db2116-f526-43ab-ac9d-5cfe1bc23c29",
   "metadata": {},
   "outputs": [
    {
     "data": {
      "text/html": [
       "<strong>poblacion:</strong> '17427790'"
      ],
      "text/latex": [
       "\\textbf{poblacion:} '17427790'"
      ],
      "text/markdown": [
       "**poblacion:** '17427790'"
      ],
      "text/plain": [
       " poblacion \n",
       "\"17427790\" "
      ]
     },
     "metadata": {},
     "output_type": "display_data"
    },
    {
     "data": {
      "text/html": [
       "<style>\n",
       ".list-inline {list-style: none; margin:0; padding: 0}\n",
       ".list-inline>li {display: inline-block}\n",
       ".list-inline>li:not(:last-child)::after {content: \"\\00b7\"; padding: 0 .5ex}\n",
       "</style>\n",
       "<ol class=list-inline><li>'nombre'</li><li>'consecutivo'</li><li>'infectados'</li></ol>\n"
      ],
      "text/latex": [
       "\\begin{enumerate*}\n",
       "\\item 'nombre'\n",
       "\\item 'consecutivo'\n",
       "\\item 'infectados'\n",
       "\\end{enumerate*}\n"
      ],
      "text/markdown": [
       "1. 'nombre'\n",
       "2. 'consecutivo'\n",
       "3. 'infectados'\n",
       "\n",
       "\n"
      ],
      "text/plain": [
       "[1] \"nombre\"      \"consecutivo\" \"infectados\" "
      ]
     },
     "metadata": {},
     "output_type": "display_data"
    },
    {
     "data": {
      "image/png": "[encoded data removed]",
      "text/plain": [
       "plot without title"
      ]
     },
     "metadata": {
      "image/png": {
       "height": 420,
       "width": 420
      }
     },
     "output_type": "display_data"
    }
   ],
   "source": [
    "datosdf <- datos %>% filter(año == \"2020\") %>% filter(nombre == \"MEXICO\")  %>% mutate(consecutivo = 1:310)  %>%\n",
    "        mutate(infectadosnew = ((infectados/poblacion)*100000))\n",
    "\n",
    "ddfnorm <- scale(select(datosdf, consecutivo, poblacion, infectadosnew), center = min_d, scale = max_d - min_d)\n",
    "#head(ddfnorm)\n",
    "\n",
    "#Prediccion\n",
    "eval_nn <- predict(nnet, ddfnorm[, 1:2])\n",
    "\n",
    "max_df <- apply(datosdf, 2, max)\n",
    "max_df[2]\n",
    "###\n",
    "# Graficar los datos recuperadops\n",
    "\n",
    "resultado <- data.frame(\n",
    "                        nombre = \"predicho\",\n",
    "                        consecutivo = 1:310,\n",
    "                        infectados = eval_nn * ((max_inf - min_inf)+min_inf)*as.integer(max_df[2])/100000)\n",
    "\n",
    "\n",
    "datosfs <- datosdf %>% select(nombre, consecutivo, infectados)\n",
    "resultado <- rbind(resultado, datosfs)\n",
    "#resultado\n",
    "names(resultado)\n",
    "\n",
    "resultado %>% ggplot(aes(x = consecutivo, y = infectados, group = nombre, color = nombre)) +\n",
    "    geom_point( ) + \n",
    "    geom_line()\n"
   ]
  },
  {
   "cell_type": "markdown",
   "id": "e91034ae-6aff-4a01-9b19-4235007e52bc",
   "metadata": {},
   "source": [
    "# Predecir el siguiente 10% de datos \n"
   ]
  },
  {
   "cell_type": "code",
   "execution_count": 27,
   "id": "53b8aae2-d771-4fa3-aca5-d12e030b7239",
   "metadata": {},
   "outputs": [
    {
     "data": {
      "text/html": [
       "<table class=\"dataframe\">\n",
       "<caption>A data.frame: 660 × 3</caption>\n",
       "<thead>\n",
       "\t<tr><th scope=col>nombre</th><th scope=col>consecutivo</th><th scope=col>infectados</th></tr>\n",
       "\t<tr><th scope=col>&lt;chr&gt;</th><th scope=col>&lt;int&gt;</th><th scope=col>&lt;dbl&gt;</th></tr>\n",
       "</thead>\n",
       "<tbody>\n",
       "\t<tr><td>predicho</td><td> 1</td><td>-250.104632</td></tr>\n",
       "\t<tr><td>predicho</td><td> 2</td><td>-234.131151</td></tr>\n",
       "\t<tr><td>predicho</td><td> 3</td><td>-217.966336</td></tr>\n",
       "\t<tr><td>predicho</td><td> 4</td><td>-201.596961</td></tr>\n",
       "\t<tr><td>predicho</td><td> 5</td><td>-185.010504</td></tr>\n",
       "\t<tr><td>predicho</td><td> 6</td><td>-168.195070</td></tr>\n",
       "\t<tr><td>predicho</td><td> 7</td><td>-151.139320</td></tr>\n",
       "\t<tr><td>predicho</td><td> 8</td><td>-133.832398</td></tr>\n",
       "\t<tr><td>predicho</td><td> 9</td><td>-116.263847</td></tr>\n",
       "\t<tr><td>predicho</td><td>10</td><td> -98.423539</td></tr>\n",
       "\t<tr><td>predicho</td><td>11</td><td> -80.301592</td></tr>\n",
       "\t<tr><td>predicho</td><td>12</td><td> -61.888291</td></tr>\n",
       "\t<tr><td>predicho</td><td>13</td><td> -43.174015</td></tr>\n",
       "\t<tr><td>predicho</td><td>14</td><td> -24.149157</td></tr>\n",
       "\t<tr><td>predicho</td><td>15</td><td>  -4.804044</td></tr>\n",
       "\t<tr><td>predicho</td><td>16</td><td>  14.871132</td></tr>\n",
       "\t<tr><td>predicho</td><td>17</td><td>  34.886390</td></tr>\n",
       "\t<tr><td>predicho</td><td>18</td><td>  55.252030</td></tr>\n",
       "\t<tr><td>predicho</td><td>19</td><td>  75.978699</td></tr>\n",
       "\t<tr><td>predicho</td><td>20</td><td>  97.077463</td></tr>\n",
       "\t<tr><td>predicho</td><td>21</td><td> 118.559857</td></tr>\n",
       "\t<tr><td>predicho</td><td>22</td><td> 140.437953</td></tr>\n",
       "\t<tr><td>predicho</td><td>23</td><td> 162.724408</td></tr>\n",
       "\t<tr><td>predicho</td><td>24</td><td> 185.432513</td></tr>\n",
       "\t<tr><td>predicho</td><td>25</td><td> 208.576240</td></tr>\n",
       "\t<tr><td>predicho</td><td>26</td><td> 232.170278</td></tr>\n",
       "\t<tr><td>predicho</td><td>27</td><td> 256.230066</td></tr>\n",
       "\t<tr><td>predicho</td><td>28</td><td> 280.771825</td></tr>\n",
       "\t<tr><td>predicho</td><td>29</td><td> 305.812575</td></tr>\n",
       "\t<tr><td>predicho</td><td>30</td><td> 331.370155</td></tr>\n",
       "\t<tr><td>...</td><td>...</td><td>...</td></tr>\n",
       "\t<tr><td>Nacional</td><td>301</td><td>13887</td></tr>\n",
       "\t<tr><td>Nacional</td><td>302</td><td>12823</td></tr>\n",
       "\t<tr><td>Nacional</td><td>303</td><td>10480</td></tr>\n",
       "\t<tr><td>Nacional</td><td>304</td><td> 2735</td></tr>\n",
       "\t<tr><td>Nacional</td><td>305</td><td> 5933</td></tr>\n",
       "\t<tr><td>Nacional</td><td>306</td><td> 4397</td></tr>\n",
       "\t<tr><td>Nacional</td><td>307</td><td>16224</td></tr>\n",
       "\t<tr><td>Nacional</td><td>308</td><td>16099</td></tr>\n",
       "\t<tr><td>Nacional</td><td>309</td><td>14728</td></tr>\n",
       "\t<tr><td>Nacional</td><td>310</td><td>12083</td></tr>\n",
       "\t<tr><td>Nacional</td><td>311</td><td> 3413</td></tr>\n",
       "\t<tr><td>Nacional</td><td>312</td><td> 6945</td></tr>\n",
       "\t<tr><td>Nacional</td><td>313</td><td> 5272</td></tr>\n",
       "\t<tr><td>Nacional</td><td>314</td><td>18553</td></tr>\n",
       "\t<tr><td>Nacional</td><td>315</td><td>18822</td></tr>\n",
       "\t<tr><td>Nacional</td><td>316</td><td>18410</td></tr>\n",
       "\t<tr><td>Nacional</td><td>317</td><td>18763</td></tr>\n",
       "\t<tr><td>Nacional</td><td>318</td><td>18601</td></tr>\n",
       "\t<tr><td>Nacional</td><td>319</td><td> 9843</td></tr>\n",
       "\t<tr><td>Nacional</td><td>320</td><td> 5663</td></tr>\n",
       "\t<tr><td>Nacional</td><td>321</td><td>21043</td></tr>\n",
       "\t<tr><td>Nacional</td><td>322</td><td>19499</td></tr>\n",
       "\t<tr><td>Nacional</td><td>323</td><td>18648</td></tr>\n",
       "\t<tr><td>Nacional</td><td>324</td><td>18369</td></tr>\n",
       "\t<tr><td>Nacional</td><td>325</td><td>17512</td></tr>\n",
       "\t<tr><td>Nacional</td><td>326</td><td> 9439</td></tr>\n",
       "\t<tr><td>Nacional</td><td>327</td><td> 5326</td></tr>\n",
       "\t<tr><td>Nacional</td><td>328</td><td>19672</td></tr>\n",
       "\t<tr><td>Nacional</td><td>329</td><td>19043</td></tr>\n",
       "\t<tr><td>Nacional</td><td>330</td><td>17478</td></tr>\n",
       "</tbody>\n",
       "</table>\n"
      ],
      "text/latex": [
       "A data.frame: 660 × 3\n",
       "\\begin{tabular}{lll}\n",
       " nombre & consecutivo & infectados\\\\\n",
       " <chr> & <int> & <dbl>\\\\\n",
       "\\hline\n",
       "\t predicho &  1 & -250.104632\\\\\n",
       "\t predicho &  2 & -234.131151\\\\\n",
       "\t predicho &  3 & -217.966336\\\\\n",
       "\t predicho &  4 & -201.596961\\\\\n",
       "\t predicho &  5 & -185.010504\\\\\n",
       "\t predicho &  6 & -168.195070\\\\\n",
       "\t predicho &  7 & -151.139320\\\\\n",
       "\t predicho &  8 & -133.832398\\\\\n",
       "\t predicho &  9 & -116.263847\\\\\n",
       "\t predicho & 10 &  -98.423539\\\\\n",
       "\t predicho & 11 &  -80.301592\\\\\n",
       "\t predicho & 12 &  -61.888291\\\\\n",
       "\t predicho & 13 &  -43.174015\\\\\n",
       "\t predicho & 14 &  -24.149157\\\\\n",
       "\t predicho & 15 &   -4.804044\\\\\n",
       "\t predicho & 16 &   14.871132\\\\\n",
       "\t predicho & 17 &   34.886390\\\\\n",
       "\t predicho & 18 &   55.252030\\\\\n",
       "\t predicho & 19 &   75.978699\\\\\n",
       "\t predicho & 20 &   97.077463\\\\\n",
       "\t predicho & 21 &  118.559857\\\\\n",
       "\t predicho & 22 &  140.437953\\\\\n",
       "\t predicho & 23 &  162.724408\\\\\n",
       "\t predicho & 24 &  185.432513\\\\\n",
       "\t predicho & 25 &  208.576240\\\\\n",
       "\t predicho & 26 &  232.170278\\\\\n",
       "\t predicho & 27 &  256.230066\\\\\n",
       "\t predicho & 28 &  280.771825\\\\\n",
       "\t predicho & 29 &  305.812575\\\\\n",
       "\t predicho & 30 &  331.370155\\\\\n",
       "\t ... & ... & ...\\\\\n",
       "\t Nacional & 301 & 13887\\\\\n",
       "\t Nacional & 302 & 12823\\\\\n",
       "\t Nacional & 303 & 10480\\\\\n",
       "\t Nacional & 304 &  2735\\\\\n",
       "\t Nacional & 305 &  5933\\\\\n",
       "\t Nacional & 306 &  4397\\\\\n",
       "\t Nacional & 307 & 16224\\\\\n",
       "\t Nacional & 308 & 16099\\\\\n",
       "\t Nacional & 309 & 14728\\\\\n",
       "\t Nacional & 310 & 12083\\\\\n",
       "\t Nacional & 311 &  3413\\\\\n",
       "\t Nacional & 312 &  6945\\\\\n",
       "\t Nacional & 313 &  5272\\\\\n",
       "\t Nacional & 314 & 18553\\\\\n",
       "\t Nacional & 315 & 18822\\\\\n",
       "\t Nacional & 316 & 18410\\\\\n",
       "\t Nacional & 317 & 18763\\\\\n",
       "\t Nacional & 318 & 18601\\\\\n",
       "\t Nacional & 319 &  9843\\\\\n",
       "\t Nacional & 320 &  5663\\\\\n",
       "\t Nacional & 321 & 21043\\\\\n",
       "\t Nacional & 322 & 19499\\\\\n",
       "\t Nacional & 323 & 18648\\\\\n",
       "\t Nacional & 324 & 18369\\\\\n",
       "\t Nacional & 325 & 17512\\\\\n",
       "\t Nacional & 326 &  9439\\\\\n",
       "\t Nacional & 327 &  5326\\\\\n",
       "\t Nacional & 328 & 19672\\\\\n",
       "\t Nacional & 329 & 19043\\\\\n",
       "\t Nacional & 330 & 17478\\\\\n",
       "\\end{tabular}\n"
      ],
      "text/markdown": [
       "\n",
       "A data.frame: 660 × 3\n",
       "\n",
       "| nombre &lt;chr&gt; | consecutivo &lt;int&gt; | infectados &lt;dbl&gt; |\n",
       "|---|---|---|\n",
       "| predicho |  1 | -250.104632 |\n",
       "| predicho |  2 | -234.131151 |\n",
       "| predicho |  3 | -217.966336 |\n",
       "| predicho |  4 | -201.596961 |\n",
       "| predicho |  5 | -185.010504 |\n",
       "| predicho |  6 | -168.195070 |\n",
       "| predicho |  7 | -151.139320 |\n",
       "| predicho |  8 | -133.832398 |\n",
       "| predicho |  9 | -116.263847 |\n",
       "| predicho | 10 |  -98.423539 |\n",
       "| predicho | 11 |  -80.301592 |\n",
       "| predicho | 12 |  -61.888291 |\n",
       "| predicho | 13 |  -43.174015 |\n",
       "| predicho | 14 |  -24.149157 |\n",
       "| predicho | 15 |   -4.804044 |\n",
       "| predicho | 16 |   14.871132 |\n",
       "| predicho | 17 |   34.886390 |\n",
       "| predicho | 18 |   55.252030 |\n",
       "| predicho | 19 |   75.978699 |\n",
       "| predicho | 20 |   97.077463 |\n",
       "| predicho | 21 |  118.559857 |\n",
       "| predicho | 22 |  140.437953 |\n",
       "| predicho | 23 |  162.724408 |\n",
       "| predicho | 24 |  185.432513 |\n",
       "| predicho | 25 |  208.576240 |\n",
       "| predicho | 26 |  232.170278 |\n",
       "| predicho | 27 |  256.230066 |\n",
       "| predicho | 28 |  280.771825 |\n",
       "| predicho | 29 |  305.812575 |\n",
       "| predicho | 30 |  331.370155 |\n",
       "| ... | ... | ... |\n",
       "| Nacional | 301 | 13887 |\n",
       "| Nacional | 302 | 12823 |\n",
       "| Nacional | 303 | 10480 |\n",
       "| Nacional | 304 |  2735 |\n",
       "| Nacional | 305 |  5933 |\n",
       "| Nacional | 306 |  4397 |\n",
       "| Nacional | 307 | 16224 |\n",
       "| Nacional | 308 | 16099 |\n",
       "| Nacional | 309 | 14728 |\n",
       "| Nacional | 310 | 12083 |\n",
       "| Nacional | 311 |  3413 |\n",
       "| Nacional | 312 |  6945 |\n",
       "| Nacional | 313 |  5272 |\n",
       "| Nacional | 314 | 18553 |\n",
       "| Nacional | 315 | 18822 |\n",
       "| Nacional | 316 | 18410 |\n",
       "| Nacional | 317 | 18763 |\n",
       "| Nacional | 318 | 18601 |\n",
       "| Nacional | 319 |  9843 |\n",
       "| Nacional | 320 |  5663 |\n",
       "| Nacional | 321 | 21043 |\n",
       "| Nacional | 322 | 19499 |\n",
       "| Nacional | 323 | 18648 |\n",
       "| Nacional | 324 | 18369 |\n",
       "| Nacional | 325 | 17512 |\n",
       "| Nacional | 326 |  9439 |\n",
       "| Nacional | 327 |  5326 |\n",
       "| Nacional | 328 | 19672 |\n",
       "| Nacional | 329 | 19043 |\n",
       "| Nacional | 330 | 17478 |\n",
       "\n"
      ],
      "text/plain": [
       "    nombre   consecutivo infectados \n",
       "1   predicho  1          -250.104632\n",
       "2   predicho  2          -234.131151\n",
       "3   predicho  3          -217.966336\n",
       "4   predicho  4          -201.596961\n",
       "5   predicho  5          -185.010504\n",
       "6   predicho  6          -168.195070\n",
       "7   predicho  7          -151.139320\n",
       "8   predicho  8          -133.832398\n",
       "9   predicho  9          -116.263847\n",
       "10  predicho 10           -98.423539\n",
       "11  predicho 11           -80.301592\n",
       "12  predicho 12           -61.888291\n",
       "13  predicho 13           -43.174015\n",
       "14  predicho 14           -24.149157\n",
       "15  predicho 15            -4.804044\n",
       "16  predicho 16            14.871132\n",
       "17  predicho 17            34.886390\n",
       "18  predicho 18            55.252030\n",
       "19  predicho 19            75.978699\n",
       "20  predicho 20            97.077463\n",
       "21  predicho 21           118.559857\n",
       "22  predicho 22           140.437953\n",
       "23  predicho 23           162.724408\n",
       "24  predicho 24           185.432513\n",
       "25  predicho 25           208.576240\n",
       "26  predicho 26           232.170278\n",
       "27  predicho 27           256.230066\n",
       "28  predicho 28           280.771825\n",
       "29  predicho 29           305.812575\n",
       "30  predicho 30           331.370155\n",
       "... ...      ...         ...        \n",
       "631 Nacional 301         13887      \n",
       "632 Nacional 302         12823      \n",
       "633 Nacional 303         10480      \n",
       "634 Nacional 304          2735      \n",
       "635 Nacional 305          5933      \n",
       "636 Nacional 306          4397      \n",
       "637 Nacional 307         16224      \n",
       "638 Nacional 308         16099      \n",
       "639 Nacional 309         14728      \n",
       "640 Nacional 310         12083      \n",
       "641 Nacional 311          3413      \n",
       "642 Nacional 312          6945      \n",
       "643 Nacional 313          5272      \n",
       "644 Nacional 314         18553      \n",
       "645 Nacional 315         18822      \n",
       "646 Nacional 316         18410      \n",
       "647 Nacional 317         18763      \n",
       "648 Nacional 318         18601      \n",
       "649 Nacional 319          9843      \n",
       "650 Nacional 320          5663      \n",
       "651 Nacional 321         21043      \n",
       "652 Nacional 322         19499      \n",
       "653 Nacional 323         18648      \n",
       "654 Nacional 324         18369      \n",
       "655 Nacional 325         17512      \n",
       "656 Nacional 326          9439      \n",
       "657 Nacional 327          5326      \n",
       "658 Nacional 328         19672      \n",
       "659 Nacional 329         19043      \n",
       "660 Nacional 330         17478      "
      ]
     },
     "metadata": {},
     "output_type": "display_data"
    },
    {
     "data": {
      "text/html": [
       "NaN"
      ],
      "text/latex": [
       "NaN"
      ],
      "text/markdown": [
       "NaN"
      ],
      "text/plain": [
       "[1] NaN"
      ]
     },
     "metadata": {},
     "output_type": "display_data"
    },
    {
     "data": {
      "text/html": [
       "NaN"
      ],
      "text/latex": [
       "NaN"
      ],
      "text/markdown": [
       "NaN"
      ],
      "text/plain": [
       "[1] NaN"
      ]
     },
     "metadata": {},
     "output_type": "display_data"
    },
    {
     "data": {
      "image/png": "[encoded data removed]",
      "text/plain": [
       "plot without title"
      ]
     },
     "metadata": {
      "image/png": {
       "height": 420,
       "width": 420
      }
     },
     "output_type": "display_data"
    }
   ],
   "source": [
    "# Tratamiento de datos\n",
    "datosf <- datos %>% filter(nombre == \"Nacional\") %>%  mutate(consecutivo = 1:853)  %>%\n",
    "        mutate(infectadosnew = ((infectados/poblacion)*100000)) %>% filter(consecutivo <= 330)\n",
    "\n",
    "dnacionalnorm <- scale(select(datosf, consecutivo, poblacion, infectadosnew), center = min_d, scale = max_d - min_d)\n",
    "\n",
    "#Prediccion\n",
    "eval_nn <- predict(nnet, dnacionalnorm[, 1:2])\n",
    "\n",
    "# Graficar los datos recuperadops\n",
    "\n",
    "resultado <- data.frame(\n",
    "                        nombre = \"predicho\",\n",
    "                        consecutivo = 1:330,\n",
    "                        infectados = eval_nn * ((max_inf - min_inf)+min_inf)*max_d[2]/100000)\n",
    "\n",
    "\n",
    "datosf <- datosf %>% select(nombre, consecutivo, infectados)\n",
    "resultado <- rbind(resultado, datosf)\n",
    "resultado\n",
    "#names(resultado)\n",
    "\n",
    "resultado %>% ggplot(aes(x = consecutivo, y = infectados, group = nombre, color = nombre)) +\n",
    "geom_point( ) + geom_line() #+ geom_cartesian(xlim = c(300, 330))\n",
    "\n",
    "mean(abs(resultado$infectaods[1:310] - datosf$infectados[1:300]))\n",
    "mean(abs(resultado$infectaods[300:330] - datosf$infectados[300:330]))"
   ]
  },
  {
   "cell_type": "code",
   "execution_count": null,
   "id": "7d7a1901-3037-4aea-b46b-56f230088f9e",
   "metadata": {},
   "outputs": [],
   "source": []
  },
  {
   "cell_type": "markdown",
   "id": "2517ef83-9e58-4dac-8d82-1d51fbfaaa25",
   "metadata": {},
   "source": [
    "# Ejercicio 1"
   ]
  },
  {
   "cell_type": "markdown",
   "id": "55f332db-834b-45f3-82d4-93b1a17776f3",
   "metadata": {},
   "source": [
    "Replique el ejemplo de la predicción de los siguientes 30 días de su municipio y de otros dos y anime la gráfica con gganimate. \n",
    "</br>\n",
    "* Comparta por el chat o el github su GIF</br>\n",
    "* Comparta la estructura de su modelo de la RNA</br>\n",
    "* Calcule su error de sesgo y la varianza \n",
    "\n"
   ]
  },
  {
   "cell_type": "code",
   "execution_count": null,
   "id": "a25d8276-c434-4c4b-b5c2-3e898dc5f433",
   "metadata": {},
   "outputs": [],
   "source": []
  }
 ],
 "metadata": {
  "kernelspec": {
   "display_name": "R",
   "language": "R",
   "name": "ir"
  },
  "language_info": {
   "codemirror_mode": "r",
   "file_extension": ".r",
   "mimetype": "text/x-r-source",
   "name": "R",
   "pygments_lexer": "r",
   "version": "4.1.1"
  }
 },
 "nbformat": 4,
 "nbformat_minor": 5
}
